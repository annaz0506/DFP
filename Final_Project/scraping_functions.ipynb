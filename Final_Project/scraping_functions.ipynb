{
 "cells": [
  {
   "cell_type": "markdown",
   "id": "83d6cb0f",
   "metadata": {},
   "source": [
    "# # Scraping Functions\n",
    "# Core functions for extracting job data from Indeed"
   ]
  },
  {
   "cell_type": "markdown",
   "id": "b7f35a9e",
   "metadata": {},
   "source": [
    "## Load Dependencies"
   ]
  },
  {
   "cell_type": "code",
   "execution_count": 1,
   "id": "f516dfe5",
   "metadata": {},
   "outputs": [
    {
     "name": "stdout",
     "output_type": "stream",
     "text": [
      "✓ Configuration loaded successfully\n",
      "  - Default threads: 3\n",
      "  - Max threads: 15\n",
      "  - WebDriver timeout: 10s\n",
      "✓ Configuration loaded successfully\n",
      "  - Default threads: 3\n",
      "  - Max threads: 15\n",
      "  - WebDriver timeout: 10s\n",
      "✓ Test URL: https://www.indeed.com/jobs?q=data+analyst&l=New+York+NY\n",
      "✓ Utility functions loaded successfully\n"
     ]
    }
   ],
   "source": [
    "%run config.ipynb\n",
    "%run utils.ipynb"
   ]
  },
  {
   "cell_type": "markdown",
   "id": "5fbc2f67",
   "metadata": {},
   "source": [
    "## Extract Basic Job Information"
   ]
  },
  {
   "cell_type": "code",
   "execution_count": 2,
   "id": "1168000b",
   "metadata": {},
   "outputs": [],
   "source": [
    "def get_job_basic_info(post):\n",
    "    \"\"\"\n",
    "    Extract basic information from a job posting card\n",
    "    \n",
    "    Args:\n",
    "        post: Selenium WebElement of job card\n",
    "    \n",
    "    Returns:\n",
    "        Tuple: (title, company, location, salary, job_url) or None if error\n",
    "    \"\"\"\n",
    "    try:\n",
    "        title = post.find_element(By.CSS_SELECTOR, \"h2.jobTitle\").text\n",
    "        company = post.find_element(By.CSS_SELECTOR, \"span[data-testid='company-name']\").text\n",
    "        location = post.find_element(By.CSS_SELECTOR, \"div[data-testid='text-location']\").text\n",
    "        job_url = post.find_element(By.CSS_SELECTOR, \"h2.jobTitle a\").get_attribute(\"href\")\n",
    "        \n",
    "        # Try to get salary (optional field)\n",
    "        try:\n",
    "            salary = post.find_element(By.CSS_SELECTOR, \"div[data-testid='attribute_snippet_testid']\").text\n",
    "        except NoSuchElementException:\n",
    "            salary = \"\"\n",
    "        \n",
    "        return (title, company, location, salary, job_url)\n",
    "    except Exception as e:\n",
    "        print(f\"Error extracting basic info: {e}\")\n",
    "        return None"
   ]
  },
  {
   "cell_type": "markdown",
   "id": "d1837c80",
   "metadata": {},
   "source": [
    "## Extract Full Job Description"
   ]
  },
  {
   "cell_type": "code",
   "execution_count": 3,
   "id": "3f06b739",
   "metadata": {},
   "outputs": [],
   "source": [
    "def get_job_description(job_url):\n",
    "    \"\"\"\n",
    "    Get full job description by opening the job URL\n",
    "    Uses a fresh browser instance for anti-detection\n",
    "    \n",
    "    Args:\n",
    "        job_url: URL of the job posting\n",
    "    \n",
    "    Returns:\n",
    "        Job description text or \"None\" if error\n",
    "    \"\"\"\n",
    "    driver = create_driver()\n",
    "    \n",
    "    try:\n",
    "        driver.get(job_url)\n",
    "        # Simulate human browsing behavior\n",
    "        time.sleep(random.randint(JOB_LOAD_MIN, JOB_LOAD_MAX))\n",
    "        \n",
    "        # Wait for description to load\n",
    "        WebDriverWait(driver, WEBDRIVER_TIMEOUT).until(\n",
    "            EC.presence_of_element_located((By.ID, \"jobDescriptionText\"))\n",
    "        )\n",
    "        job_description = driver.find_element(By.ID, \"jobDescriptionText\").text\n",
    "        \n",
    "    except (NoSuchElementException, TimeoutException):\n",
    "        job_description = \"None\"\n",
    "    except Exception as e:\n",
    "        safe_print(f\"Error getting job description: {e}\")\n",
    "        job_description = \"None\"\n",
    "    finally:\n",
    "        driver.quit()\n",
    "    \n",
    "    return job_description"
   ]
  },
  {
   "cell_type": "markdown",
   "id": "f1c73dcd",
   "metadata": {},
   "source": [
    "## Process Job with Threading"
   ]
  },
  {
   "cell_type": "code",
   "execution_count": 4,
   "id": "bfab66c6",
   "metadata": {},
   "outputs": [],
   "source": [
    "def process_job_with_description(job_data, index, total):\n",
    "    \"\"\"\n",
    "    Process a single job: fetch description and create record\n",
    "    Designed for parallel execution with ThreadPoolExecutor\n",
    "    \n",
    "    Args:\n",
    "        job_data: Tuple of basic job info\n",
    "        index: Job index (for progress tracking)\n",
    "        total: Total number of jobs\n",
    "    \n",
    "    Returns:\n",
    "        Complete job record tuple\n",
    "    \"\"\"\n",
    "    title, company, location, salary, job_url = job_data\n",
    "    \n",
    "    safe_print(f\"[Thread] Processing job {index + 1}/{total}: {title} at {company}\")\n",
    "    \n",
    "    # Stagger requests to avoid detection\n",
    "    time.sleep(random.uniform(THREAD_DELAY_MIN, THREAD_DELAY_MAX))\n",
    "    \n",
    "    # Get full job description\n",
    "    job_description = get_job_description(job_url)\n",
    "    \n",
    "    record = (title, company, location, salary, job_url, job_description)\n",
    "    safe_print(f\"[Thread] Completed job {index + 1}/{total}: {title}\")\n",
    "    \n",
    "    return record"
   ]
  },
  {
   "cell_type": "code",
   "execution_count": 5,
   "id": "88aa9ca8",
   "metadata": {},
   "outputs": [
    {
     "name": "stdout",
     "output_type": "stream",
     "text": [
      "✓ Scraping functions loaded successfully\n",
      "  - get_job_basic_info()\n",
      "  - get_job_description()\n",
      "  - process_job_with_description()\n"
     ]
    }
   ],
   "source": [
    "print(\"✓ Scraping functions loaded successfully\")\n",
    "print(\"  - get_job_basic_info()\")\n",
    "print(\"  - get_job_description()\")\n",
    "print(\"  - process_job_with_description()\")"
   ]
  }
 ],
 "metadata": {
  "kernelspec": {
   "display_name": "env",
   "language": "python",
   "name": "python3"
  },
  "language_info": {
   "codemirror_mode": {
    "name": "ipython",
    "version": 3
   },
   "file_extension": ".py",
   "mimetype": "text/x-python",
   "name": "python",
   "nbconvert_exporter": "python",
   "pygments_lexer": "ipython3",
   "version": "3.13.7"
  }
 },
 "nbformat": 4,
 "nbformat_minor": 5
}
