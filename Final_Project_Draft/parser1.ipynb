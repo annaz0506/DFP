{
 "cells": [
  {
   "cell_type": "code",
   "execution_count": 1,
   "id": "b2bb1d02",
   "metadata": {},
   "outputs": [],
   "source": [
    "import requests\n",
    "from bs4 import BeautifulSoup\n",
    "import time\n",
    "import random"
   ]
  },
  {
   "cell_type": "code",
   "execution_count": 2,
   "id": "498c3cfd",
   "metadata": {},
   "outputs": [],
   "source": [
    "template = \"https://www.indeed.com/jobs?q={}&l={}\"\n",
    "def get_url(job_title, city, state):\n",
    "    job_title = job_title.strip().replace(\" \", \"+\")\n",
    "    city = city.strip().replace(\" \", \"+\")\n",
    "    state = state.strip().replace(\" \", \"+\")\n",
    "    city_state = city + \"+\" + state\n",
    "    url = template.format(job_title, city_state)\n",
    "    return url"
   ]
  },
  {
   "cell_type": "markdown",
   "id": "426210f7",
   "metadata": {},
   "source": [
    "# User Input"
   ]
  },
  {
   "cell_type": "code",
   "execution_count": 3,
   "id": "fdf75c34",
   "metadata": {},
   "outputs": [
    {
     "name": "stdout",
     "output_type": "stream",
     "text": [
      "Enter job title: machine learning\n",
      "Enter city: pittsburgh\n",
      "Enter state: pa\n",
      "https://www.indeed.com/jobs?q=machine+learning&l=pittsburgh+pa\n"
     ]
    }
   ],
   "source": [
    "print(\"Enter job title: \", end = \"\")\n",
    "job_title = input()\n",
    "print(job_title)\n",
    "print(\"Enter city: \", end = \"\")\n",
    "city = input()\n",
    "print(city)\n",
    "print(\"Enter state: \", end = \"\")\n",
    "state = input()\n",
    "print(state)\n",
    "\n",
    "url = get_url(job_title, city, state)\n",
    "print(url)"
   ]
  },
  {
   "cell_type": "markdown",
   "id": "fabf8df2",
   "metadata": {},
   "source": [
    "# request"
   ]
  },
  {
   "cell_type": "code",
   "execution_count": 5,
   "id": "4ba8866d",
   "metadata": {},
   "outputs": [],
   "source": [
    "# headers = {\"User-Agent\": \"DFP_Final_Project\"}\n",
    "\n",
    "headers = {\n",
    "    \"User-Agent\": \n",
    "        \"Mozilla/5.0 (Macintosh; Intel Mac OS X 10_15_7) \"\n",
    "        \"AppleWebKit/537.36 (KHTML, like Gecko) \"\n",
    "        \"Chrome/140.0.0.0 Safari/537.36\",\n",
    "    \"Accept\": \"text/html,application/xhtml+xml,application/xml;q=0.9,*/*;q=0.8\",\n",
    "    \"Accept-Language\": \"en-US,en;q=0.5\",\n",
    "    \"Referer\": \"https://www.google.com/\"    \n",
    "}\n",
    "response = requests.get(url, headers = headers)\n"
   ]
  },
  {
   "cell_type": "code",
   "execution_count": 6,
   "id": "f954bece",
   "metadata": {},
   "outputs": [
    {
     "data": {
      "text/plain": [
       "<Response [200]>"
      ]
     },
     "execution_count": 6,
     "metadata": {},
     "output_type": "execute_result"
    }
   ],
   "source": [
    "response"
   ]
  },
  {
   "cell_type": "code",
   "execution_count": 7,
   "id": "6489e609",
   "metadata": {},
   "outputs": [],
   "source": [
    "soup = BeautifulSoup(response.text, \"html.parser\")"
   ]
  },
  {
   "cell_type": "code",
   "execution_count": 8,
   "id": "593d039a",
   "metadata": {},
   "outputs": [
    {
     "data": {
      "text/plain": [
       "[<div class=\"job_seen_beacon\"><table cellpadding=\"0\" cellspacing=\"0\" class=\"mainContentTable css-131ju4w eu4oa1w0\" role=\"presentation\"><tbody><tr><td class=\"resultContent css-1o6lhys eu4oa1w0\"><div class=\"css-pt3vth e37uo190\"><style data-emotion=\"mosaic-provider-jobcards 1o1rnx9\">.mosaic-provider-jobcards-1o1rnx9{box-sizing:border-box;margin-block-start:0;margin-block-end:0;-webkit-margin-start:0;margin-inline-start:0;-webkit-margin-end:0;margin-inline-end:0;min-inline-size:0;overflow:hidden;text-overflow:ellipsis;display:-webkit-box;-webkit-line-clamp:2;-webkit-box-orient:vertical;font-size:1.125rem;line-height:1.5rem;margin:0;margin-bottom:0.5rem;color:var(--ifl-colors-neutral-1000);letter-spacing:-0.06px;-webkit-flex-direction:row-reverse;-ms-flex-direction:row-reverse;flex-direction:row-reverse;font-weight:700;}</style><h2 class=\"jobTitle mosaic-provider-jobcards-1o1rnx9 eu4oa1w0\" tabindex=\"-1\"><a aria-label=\"full details of Data Scientist, New Graduate\" class=\"jcs-JobTitle css-1baag51 eu4oa1w0\" data-hide-spinner=\"true\" data-hiring-event=\"false\" data-jk=\"252c1acf3cad34a8\" data-mobtk=\"1j6k9a8oag2vh86d\" href=\"/rc/clk?jk=252c1acf3cad34a8&amp;bb=6BvJ0kJ1ahkVhDQE46-36taF_9LCO_6b8yMPOgM0Z-0Dw-m7IuboOyHnCZoqx8wSvncYpkmFV7AGtv4l5l9aE1rP9aJvO10YcR9cswLKlcHxBmUSCrKoVBbJn7sO-LFaREZ4QC0mYxaUvxJEMev2ag%3D%3D&amp;xkcb=SoAg67M3sUamxigREr0LbzkdCdPP&amp;fccid=1d7146bd38091a7a&amp;vjs=3\" id=\"job_252c1acf3cad34a8\" role=\"button\"><span id=\"jobTitle-252c1acf3cad34a8\" title=\"Data Scientist, New Graduate\">Data Scientist, New Graduate</span></a></h2><div class=\"css-j160pq e37uo190\"><style data-emotion=\"mosaic-provider-jobcards 1xnau0q\">.mosaic-provider-jobcards-1xnau0q{-webkit-align-content:center;-ms-flex-line-pack:center;align-content:center;-webkit-align-items:center;-webkit-box-align:center;-ms-flex-align:center;align-items:center;border:1px solid;border-color:var(--ifl-colors-background-status-info-weaker);border-radius:0.5rem;box-sizing:border-box;display:-webkit-inline-box;display:-webkit-inline-flex;display:-ms-inline-flexbox;display:inline-flex;font-family:'Indeed Sans','Noto Sans','Helvetica Neue',Helvetica,Arial,'Liberation Sans',Roboto,Noto,sans-serif;font-size:0.75rem;font-weight:700;line-height:1.5;position:relative;-webkit-padding-start:0.5rem;padding-inline-start:0.5rem;-webkit-padding-end:0.5rem;padding-inline-end:0.5rem;padding-block-start:2px;padding-block-end:2px;background-color:var(--ifl-colors-background-status-info-weaker);color:var(--ifl-colors-foreground-status-info);border-radius:0.5rem;}.mosaic-provider-jobcards-1xnau0q svg{display:block;block-size:18px;inline-size:18px;}</style><div class=\"mosaic-provider-jobcards-1xnau0q e1xnxm2i0\"><style data-emotion=\"mosaic-provider-jobcards 1oa1vqn\">.mosaic-provider-jobcards-1oa1vqn{display:-webkit-box;display:-webkit-flex;display:-ms-flexbox;display:flex;gap:0.5rem;-webkit-align-items:center;-webkit-box-align:center;-ms-flex-align:center;align-items:center;-webkit-box-flex-wrap:wrap;-webkit-flex-wrap:wrap;-ms-flex-wrap:wrap;flex-wrap:wrap;-webkit-box-pack:start;-ms-flex-pack:start;-webkit-justify-content:flex-start;justify-content:flex-start;}.mosaic-provider-jobcards-1oa1vqn>.ecydgvn1{max-inline-size:100%;}</style><div class=\"mosaic-provider-jobcards-1oa1vqn ecydgvn0\"><style data-emotion=\"mosaic-provider-jobcards 1f1q1js\">.mosaic-provider-jobcards-1f1q1js{-webkit-flex:0 0 auto;-ms-flex:0 0 auto;flex:0 0 auto;min-inline-size:0;}</style><div class=\"mosaic-provider-jobcards-1f1q1js ecydgvn1\">Often responds within 1 day</div></div></div></div></div><div class=\"company_location css-10q8be3 e37uo190\"><div data-testid=\"timing-attribute\" elementtiming=\"significant-render\"><div class=\"css-1afmp4o e37uo190\"><span class=\"css-1ssrdda eu4oa1w0\" data-testid=\"company-name\">Duolingo</span></div><div class=\"css-1f06pz4 eu4oa1w0\" data-testid=\"text-location\">Pittsburgh, PA</div></div></div><div class=\"css-1b7u11v eu4oa1w0\"><div class=\"css-1a6kja7 e37uo190\"><style data-emotion=\"mosaic-provider-jobcards 5vqdjd\">.mosaic-provider-jobcards-5vqdjd{margin-block-start:0;margin-block-end:0.5rem;-webkit-margin-start:0;margin-inline-start:0;-webkit-margin-end:0;margin-inline-end:0;color:var(--ifl-colors-foreground-strong);font-weight:700;font-family:'Indeed Sans','Noto Sans','Helvetica Neue',Helvetica,Arial,'Liberation Sans',Roboto,Noto,sans-serif;font-size:1.25rem;line-height:1.5;margin-block-end:0;font-size:1.125rem;font-weight:700;}</style><h2 class=\"mosaic-provider-jobcards-5vqdjd e1tiznh50\">$135,000 - $200,000</h2><style data-emotion=\"mosaic-provider-jobcards 1mg9wsc\">.mosaic-provider-jobcards-1mg9wsc{font-family:'Indeed Sans','Noto Sans','Helvetica Neue',Helvetica,Arial,'Liberation Sans',Roboto,Noto,sans-serif;font-weight:inherit;color:var(--ifl-colors-foreground);font-size:0.875rem;line-height:1.5;margin-left:0.25rem;}</style><span class=\"mosaic-provider-jobcards-1mg9wsc e1wnkr790\">a year</span></div></div><div class=\"jobMetaDataGroup css-1bx5raa eu4oa1w0\"><style data-emotion=\"mosaic-provider-jobcards da3x4j\">.mosaic-provider-jobcards-da3x4j{box-sizing:border-box;margin-block-start:0;margin-block-end:0;-webkit-margin-start:0;margin-inline-start:0;-webkit-margin-end:0;margin-inline-end:0;min-inline-size:0;list-style-type:none;padding-left:0;margin-bottom:0!important;max-height:3.5rem;overflow:hidden;gap:0.25rem;-webkit-text-size-adjust:100%;-moz-text-size-adjust:100%;-ms-text-size-adjust:100%;text-size-adjust:100%;}.company_location+.mosaic-provider-jobcards-da3x4j{padding-top:0!important;}.result .resultContent .mosaic-provider-jobcards-da3x4j{padding-top:0.5rem;margin-bottom:0.75rem;}.result .resultContent .mosaic-provider-jobcards-da3x4j:empty{display:none;}.result.desktop .resultContent .jobsearch-JobCard-tagContainer+.mosaic-provider-jobcards-da3x4j{padding-top:0;}.jobcard-compact.resultContent .mosaic-provider-jobcards-da3x4j,.mainContentTable .resultContent .mosaic-provider-jobcards-da3x4j{display:-webkit-box;display:-webkit-flex;display:-ms-flexbox;display:flex;-webkit-box-flex-flow:row wrap;-webkit-flex-flow:row wrap;-ms-flex-flow:row wrap;flex-flow:row wrap;margin-bottom:0.75rem;}.jobcard-compact.resultContent .mosaic-provider-jobcards-da3x4j:empty,.mainContentTable .resultContent .mosaic-provider-jobcards-da3x4j:empty{display:none!important;}.jobcard-compact.resultContent .mosaic-provider-jobcards-da3x4j.reduce-mb,.mainContentTable .resultContent .mosaic-provider-jobcards-da3x4j.reduce-mb{margin-bottom:0;}.jobcard-compact.resultContent .mosaic-provider-jobcards-da3x4j.reduce-pt,.mainContentTable .resultContent .mosaic-provider-jobcards-da3x4j.reduce-pt{padding-top:0;}.jobcard-compact.resultContent .mosaic-provider-jobcards-da3x4j >.jobCardReqMore,.mainContentTable .resultContent .mosaic-provider-jobcards-da3x4j >.jobCardReqMore{font-size:0.875rem;color:#595959;display:-webkit-inline-box;display:-webkit-inline-flex;display:-ms-inline-flexbox;display:inline-flex;-webkit-align-items:center;-webkit-box-align:center;-ms-flex-align:center;align-items:center;}.mainContentTable .resultContent .jobMetaDataGroup .mosaic-provider-jobcards-da3x4j{padding-top:0;}</style><ul class=\"heading6 tapItem-gutter metadataContainer mosaic-provider-jobcards-da3x4j eu4oa1w0\"><style data-emotion=\"mosaic-provider-jobcards wth5js\">.mosaic-provider-jobcards-wth5js{-webkit-align-content:center;-ms-flex-line-pack:center;align-content:center;-webkit-align-items:center;-webkit-box-align:center;-ms-flex-align:center;align-items:center;border:1px solid;border-color:var(--ifl-colors-background-status-generic-weaker);border-radius:0.5rem;box-sizing:border-box;display:-webkit-inline-box;display:-webkit-inline-flex;display:-ms-inline-flexbox;display:inline-flex;font-family:'Indeed Sans','Noto Sans','Helvetica Neue',Helvetica,Arial,'Liberation Sans',Roboto,Noto,sans-serif;font-size:0.75rem;font-weight:700;line-height:1.5;position:relative;-webkit-padding-start:0.5rem;padding-inline-start:0.5rem;-webkit-padding-end:0.5rem;padding-inline-end:0.5rem;padding-block-start:2px;padding-block-end:2px;background-color:var(--ifl-colors-background-status-generic-weaker);color:var(--ifl-colors-foreground-status-generic);}.mosaic-provider-jobcards-wth5js svg{display:block;block-size:18px;inline-size:18px;}</style><li class=\"mosaic-provider-jobcards-wth5js e1xnxm2i0\"><div class=\"mosaic-provider-jobcards-1oa1vqn ecydgvn0\"><div class=\"mosaic-provider-jobcards-1f1q1js ecydgvn1\">Paid time off</div></div></li></ul><div class=\"heading6 error-text tapItem-gutter\"></div></div></td></tr></tbody></table><div class=\"css-1hysxc6 eu4oa1w0\" data-testid=\"location-rollup\"><a aria-label=\"View similar jobs with this employer\" class=\"css-1dpuwp7 e71d0lh0\" href=\"/addlLoc/redirect?tk=1j6k9a8oag2vh86d&amp;jk=252c1acf3cad34a8&amp;dest=%2Fjobs%3Fq%3Dmachine%2Blearning%26l%3Dpittsburgh%2Bpa%26radius%3D25%26grpKey%3DoAEB8gcFdG5mZWy4D8uB4gaqEBsKCW5vcm10aXRsZRoOZGF0YSBzY2llbnRpc3Q%253D\">View similar jobs with this employer<style data-emotion=\"mosaic-provider-jobcards 11dmwc2\">.mosaic-provider-jobcards-11dmwc2{inline-size:1.5rem;block-size:1.5rem;color:inherit;display:block;-webkit-flex:0 0 auto;-ms-flex:0 0 auto;flex:0 0 auto;-webkit-margin-start:0.5rem;margin-inline-start:0.5rem;}</style><svg aria-hidden=\"true\" class=\"mosaic-provider-jobcards-11dmwc2 eac13zx0\" fill=\"currentColor\" focusable=\"false\" role=\"img\" viewbox=\"0 0 24 24\" xmlns=\"http://www.w3.org/2000/svg\"><path d=\"M17.864 13.1383H2.9402c-.3191 0-.5886-.1097-.8082-.3292-.2195-.2197-.3293-.4891-.3293-.8083 0-.3191.1098-.5886.3293-.8082.2196-.2195.489-.3293.8082-.3293h14.918l-3.66-3.6727c-.2151-.2114-.3259-.4744-.3322-.7893-.0063-.3148.1044-.5841.3322-.808.2114-.2113.4776-.316.7988-.314.3212.002.5874.1086.7987.3198l5.606 5.606c.1119.112.1926.2363.2423.373.0497.1365.0745.2794.0745.4287 0 .1494-.0248.2913-.0745.4258-.0497.1346-.1304.258-.2423.37l-5.606 5.6117c-.2113.2114-.4734.318-.7862.32-.3128.002-.5833-.1046-.8113-.32-.2278-.2278-.3417-.4971-.3417-.808 0-.3108.1139-.5802.3417-.8082l3.6658-3.6598z\"></path></svg></a></div><div class=\"ctaContainer ctaContainer_withCompanyInfo\"><style data-emotion=\"mosaic-provider-jobcards ykqx5t\">.mosaic-provider-jobcards-ykqx5t{box-sizing:border-box;background:none;-webkit-appearance:none;-moz-appearance:none;-ms-appearance:none;appearance:none;text-align:start;-webkit-text-decoration:none;text-decoration:none;border:none;cursor:pointer;-webkit-user-select:none;-moz-user-select:none;-ms-user-select:none;user-select:none;-webkit-align-items:center;-webkit-box-align:center;-ms-flex-align:center;align-items:center;-webkit-box-pack:center;-ms-flex-pack:center;-webkit-justify-content:center;justify-content:center;position:relative;margin-block-start:0;margin-block-end:0;-webkit-margin-start:0;margin-inline-start:0;-webkit-margin-end:0;margin-inline-end:0;-webkit-padding-start:1rem;padding-inline-start:1rem;-webkit-padding-end:1rem;padding-inline-end:1rem;line-height:1.5;font-family:'Indeed Sans','Noto Sans','Helvetica Neue',Helvetica,Arial,'Liberation Sans',Roboto,Noto,sans-serif;font-size:1rem;font-weight:700;border-radius:0.75rem;-webkit-transition:border-color 200ms cubic-bezier(0.645, 0.045, 0.355, 1),background-color 200ms cubic-bezier(0.645, 0.045, 0.355, 1),opacity 200ms cubic-bezier(0.645, 0.045, 0.355, 1),box-shadow 200ms cubic-bezier(0.645, 0.045, 0.355, 1),color 200ms cubic-bezier(0.645, 0.045, 0.355, 1),z-index 200ms cubic-bezier(0.645, 0.045, 0.355, 1);transition:border-color 200ms cubic-bezier(0.645, 0.045, 0.355, 1),background-color 200ms cubic-bezier(0.645, 0.045, 0.355, 1),opacity 200ms cubic-bezier(0.645, 0.045, 0.355, 1),box-shadow 200ms cubic-bezier(0.645, 0.045, 0.355, 1),color 200ms cubic-bezier(0.645, 0.045, 0.355, 1),z-index 200ms cubic-bezier(0.645, 0.045, 0.355, 1);display:-webkit-inline-box;display:-webkit-inline-flex;display:-ms-inline-flexbox;display:inline-flex;inline-size:auto;padding-block-start:0.5625rem;padding-block-end:0.5625rem;-webkit-padding-start:0;padding-inline-start:0;-webkit-padding-end:0;padding-inline-end:0;min-block-size:2.75rem;box-shadow:none;background-color:transparent;color:var(--ifl-colors-foreground-action-primary);width:1.75rem;height:2rem;color:#6f6f6f;bottom:0;-webkit-background-position:top;background-position:top;border:none;background-color:transparent;padding:0;}.mosaic-provider-jobcards-ykqx5t::-moz-focus-inner{border:0;}@media (prefers-reduced-motion: reduce){.mosaic-provider-jobcards-ykqx5t{-webkit-transition:none;transition:none;}}.mosaic-provider-jobcards-ykqx5t:disabled{opacity:0.4;pointer-events:none;}.mosaic-provider-jobcards-ykqx5t:focus-visible{outline:none;box-shadow:var(--ifl-shadows-focus);}.mosaic-provider-jobcards-ykqx5t[aria-disabled='true']{cursor:default;}.mosaic-provider-jobcards-ykqx5t:visited{color:var(--ifl-colors-foreground-action-primary);}.mosaic-provider-jobcards-ykqx5t:hover:not([aria-disabled='true']){color:var(--ifl-colors-foreground-action-primary-hover);}.mosaic-provider-jobcards-ykqx5t:active:not([aria-disabled='true']){color:var(--ifl-colors-foreground-action-primary-active);}.mosaic-provider-jobcards-ykqx5t:focus:active:not(:focus-visible){box-shadow:none;}.mosaic-provider-jobcards-ykqx5t[aria-disabled='true']{color:rgba(0,79,203,0.4);}.mosaic-provider-jobcards-ykqx5t .bookmarkIcon{margin-top:0;}[dir=\"rtl\"] .mosaic-provider-jobcards-ykqx5t{right:auto!important;}.mosaic-provider-jobcards-ykqx5t .lower{top:38px;}.mosaic-provider-jobcards-ykqx5t button{background-color:white;border:none;padding:0;margin-left:0;}</style><button aria-label=\"Save job Toggle\" aria-pressed=\"false\" class=\"bookmark bookmark-tap-target mosaic-provider-jobcards-ykqx5t e8ju0x50\"><style data-emotion=\"mosaic-provider-jobcards s0xhw4\">.mosaic-provider-jobcards-s0xhw4{inline-size:1.5rem;block-size:1.5rem;color:var(--ifl-colors-foreground-strong);}</style><svg aria-hidden=\"true\" class=\"mosaic-provider-jobcards-s0xhw4 eac13zx0\" fill=\"currentColor\" focusable=\"false\" role=\"presentation\" viewbox=\"0 0 24 24\" xmlns=\"http://www.w3.org/2000/svg\"><path d=\"M11.9999 18.2214l-4.0268 1.7222c-.7583.3192-1.4773.2559-2.157-.19-.6796-.4456-1.0195-1.0763-1.0195-1.892V5.0719c0-.6297.2218-1.1663.6653-1.6098s.98-.6652 1.6097-.6652h9.8565c.6297 0 1.1663.2217 1.6098.6652s.6652.9801.6652 1.6098v12.7897c0 .8157-.3398 1.4464-1.0195 1.892-.6796.4459-1.3986.5092-2.157.19l-4.0267-1.7222zm0-2.493l4.9282 2.1142V5.0719H7.0716v12.7707L12 15.7284z\"></path></svg></button></div><div aria-live=\"polite\"></div></div>,\n",
       " <div class=\"job_seen_beacon\"><table cellpadding=\"0\" cellspacing=\"0\" class=\"mainContentTable css-131ju4w eu4oa1w0\" role=\"presentation\"><tbody><tr><td class=\"resultContent css-1o6lhys eu4oa1w0\"><div class=\"css-pt3vth e37uo190\"><h2 class=\"jobTitle mosaic-provider-jobcards-1o1rnx9 eu4oa1w0\" tabindex=\"-1\"><a aria-label=\"full details of Data Expert\" class=\"jcs-JobTitle css-1baag51 eu4oa1w0\" data-hide-spinner=\"true\" data-hiring-event=\"false\" data-jk=\"bb7b95e0f22694a5\" data-mobtk=\"1j6k9a8oag2vh86d\" href=\"/rc/clk?jk=bb7b95e0f22694a5&amp;bb=6BvJ0kJ1ahkVhDQE46-36oSjS-RKcqztSwEXl2zaNw0HDqWs-5hOj4TrhxUtKudYBxWUZWbcSbdavy4VWnAVJne4PFQtHC8ZYqJKTTPY8ec1QLI6WfN7UYNhMOCXOaggglh3fv9jW_G89TJSWHD1Xg%3D%3D&amp;xkcb=SoCU67M3sUamxigREr0KbzkdCdPP&amp;fccid=b1330bfa6e5aae73&amp;vjs=3\" id=\"job_bb7b95e0f22694a5\" role=\"button\"><span id=\"jobTitle-bb7b95e0f22694a5\" title=\"Data Expert\">Data Expert</span></a></h2></div><div class=\"company_location css-10q8be3 e37uo190\"><div data-testid=\"timing-attribute\"><div class=\"css-1afmp4o e37uo190\"><span class=\"css-1ssrdda eu4oa1w0\" data-testid=\"company-name\">PNC Financial Services Group</span></div><div class=\"css-1f06pz4 eu4oa1w0\" data-testid=\"text-location\">Pittsburgh, PA 15222<!-- --> <div class=\"css-14rqksf eu4oa1w0\">(<!-- -->Strip District area<!-- -->)</div></div></div></div><div class=\"css-1b7u11v eu4oa1w0\"><div class=\"css-1a6kja7 e37uo190\"><h2 class=\"mosaic-provider-jobcards-5vqdjd e1tiznh50\">$97,500 - $132,500</h2><span class=\"mosaic-provider-jobcards-1mg9wsc e1wnkr790\">a year</span></div></div><div class=\"jobMetaDataGroup css-1bx5raa eu4oa1w0\"><ul class=\"heading6 tapItem-gutter metadataContainer mosaic-provider-jobcards-da3x4j eu4oa1w0\"><li class=\"mosaic-provider-jobcards-wth5js e1xnxm2i0\" data-testid=\"attribute_snippet_testid\"><div class=\"mosaic-provider-jobcards-1oa1vqn ecydgvn0\"><div class=\"mosaic-provider-jobcards-1f1q1js ecydgvn1\">Full-time</div></div></li><li class=\"mosaic-provider-jobcards-wth5js e1xnxm2i0\"><div class=\"mosaic-provider-jobcards-1oa1vqn ecydgvn0\"><div class=\"mosaic-provider-jobcards-1f1q1js ecydgvn1\">Tuition reimbursement</div></div></li><li class=\"mosaic-provider-jobcards-wth5js e1xnxm2i0\"><div class=\"mosaic-provider-jobcards-1oa1vqn ecydgvn0\"><div class=\"mosaic-provider-jobcards-1f1q1js ecydgvn1\">Prescription drug insurance</div></div></li><li class=\"mosaic-provider-jobcards-wth5js e1xnxm2i0\"><div class=\"mosaic-provider-jobcards-1oa1vqn ecydgvn0\"><div class=\"mosaic-provider-jobcards-1f1q1js ecydgvn1\">Parental leave</div></div></li><li class=\"mosaic-provider-jobcards-wth5js e1xnxm2i0\"><div class=\"mosaic-provider-jobcards-1oa1vqn ecydgvn0\"><div class=\"mosaic-provider-jobcards-1f1q1js ecydgvn1\">Health insurance</div></div></li><li class=\"mosaic-provider-jobcards-wth5js e1xnxm2i0\"><div class=\"mosaic-provider-jobcards-1oa1vqn ecydgvn0\"><div class=\"mosaic-provider-jobcards-1f1q1js ecydgvn1\">401(k) matching</div></div></li><li class=\"mosaic-provider-jobcards-wth5js e1xnxm2i0\"><div class=\"mosaic-provider-jobcards-1oa1vqn ecydgvn0\"><div class=\"mosaic-provider-jobcards-1f1q1js ecydgvn1\">Paid time off</div></div></li></ul><div class=\"heading6 error-text tapItem-gutter\"></div></div></td></tr></tbody></table><div class=\"ctaContainer ctaContainer_withCompanyInfo\"><button aria-label=\"Save job Toggle\" aria-pressed=\"false\" class=\"bookmark bookmark-tap-target mosaic-provider-jobcards-ykqx5t e8ju0x50\"><svg aria-hidden=\"true\" class=\"mosaic-provider-jobcards-s0xhw4 eac13zx0\" fill=\"currentColor\" focusable=\"false\" role=\"presentation\" viewbox=\"0 0 24 24\" xmlns=\"http://www.w3.org/2000/svg\"><path d=\"M11.9999 18.2214l-4.0268 1.7222c-.7583.3192-1.4773.2559-2.157-.19-.6796-.4456-1.0195-1.0763-1.0195-1.892V5.0719c0-.6297.2218-1.1663.6653-1.6098s.98-.6652 1.6097-.6652h9.8565c.6297 0 1.1663.2217 1.6098.6652s.6652.9801.6652 1.6098v12.7897c0 .8157-.3398 1.4464-1.0195 1.892-.6796.4459-1.3986.5092-2.157.19l-4.0267-1.7222zm0-2.493l4.9282 2.1142V5.0719H7.0716v12.7707L12 15.7284z\"></path></svg></button></div><div aria-live=\"polite\"></div></div>,\n",
       " <div class=\"job_seen_beacon\"><table cellpadding=\"0\" cellspacing=\"0\" class=\"mainContentTable css-131ju4w eu4oa1w0\" role=\"presentation\"><tbody><tr><td class=\"resultContent css-1o6lhys eu4oa1w0\"><div class=\"css-pt3vth e37uo190\"><h2 class=\"jobTitle mosaic-provider-jobcards-1o1rnx9 eu4oa1w0\" tabindex=\"-1\"><a aria-label=\"full details of Machine Learning Engineer - Data Science Innovation (DSI)\" class=\"jcs-JobTitle css-1baag51 eu4oa1w0\" data-hide-spinner=\"true\" data-hiring-event=\"false\" data-jk=\"50520191fdf3ff87\" data-mobtk=\"1j6k9a8oag2vh86d\" href=\"/rc/clk?jk=50520191fdf3ff87&amp;bb=6BvJ0kJ1ahkVhDQE46-36skEg_7cjVEphREjugZL18lxyVAbbVERk-7rpyQah3MevEI1MeHfNj_A5PavvOcXYwYeDq7rtHcnu4kelsjUMz_3YIV6l7Qp6ZPT1xrjvVwQkPKDbhIdaqh_OZqqmAd_IQ%3D%3D&amp;xkcb=SoAJ67M3sUamxigREr0JbzkdCdPP&amp;fccid=b1330bfa6e5aae73&amp;vjs=3\" id=\"job_50520191fdf3ff87\" role=\"button\"><span id=\"jobTitle-50520191fdf3ff87\" title=\"Machine Learning Engineer - Data Science Innovation (DSI)\">Machine Learning Engineer - Data Science Innovation (DSI)</span></a></h2></div><div class=\"company_location css-10q8be3 e37uo190\"><div data-testid=\"timing-attribute\"><div class=\"css-1afmp4o e37uo190\"><span class=\"css-1ssrdda eu4oa1w0\" data-testid=\"company-name\">PNC Financial Services Group</span></div><div class=\"css-1f06pz4 eu4oa1w0\" data-testid=\"text-location\">Pittsburgh, PA 15222<!-- --> <div class=\"css-14rqksf eu4oa1w0\">(<!-- -->Strip District area<!-- -->)</div></div></div></div><div class=\"css-1q6otk eu4oa1w0\"><div class=\"mosaic-provider-jobcards-wth5js e1xnxm2i0\"><div class=\"mosaic-provider-jobcards-1oa1vqn ecydgvn0\"><div class=\"mosaic-provider-jobcards-1f1q1js ecydgvn1\">Pay information not provided</div></div></div></div><div class=\"jobMetaDataGroup css-1bx5raa eu4oa1w0\"><ul class=\"heading6 tapItem-gutter metadataContainer mosaic-provider-jobcards-da3x4j eu4oa1w0\"><li class=\"mosaic-provider-jobcards-wth5js e1xnxm2i0\" data-testid=\"attribute_snippet_testid\"><div class=\"mosaic-provider-jobcards-1oa1vqn ecydgvn0\"><div class=\"mosaic-provider-jobcards-1f1q1js ecydgvn1\">Full-time</div></div></li><li class=\"mosaic-provider-jobcards-wth5js e1xnxm2i0\"><div class=\"mosaic-provider-jobcards-1oa1vqn ecydgvn0\"><div class=\"mosaic-provider-jobcards-1f1q1js ecydgvn1\">Tuition reimbursement</div></div></li><li class=\"mosaic-provider-jobcards-wth5js e1xnxm2i0\"><div class=\"mosaic-provider-jobcards-1oa1vqn ecydgvn0\"><div class=\"mosaic-provider-jobcards-1f1q1js ecydgvn1\">Prescription drug insurance</div></div></li><li class=\"mosaic-provider-jobcards-wth5js e1xnxm2i0\"><div class=\"mosaic-provider-jobcards-1oa1vqn ecydgvn0\"><div class=\"mosaic-provider-jobcards-1f1q1js ecydgvn1\">Parental leave</div></div></li><li class=\"mosaic-provider-jobcards-wth5js e1xnxm2i0\"><div class=\"mosaic-provider-jobcards-1oa1vqn ecydgvn0\"><div class=\"mosaic-provider-jobcards-1f1q1js ecydgvn1\">Health insurance</div></div></li><li class=\"mosaic-provider-jobcards-wth5js e1xnxm2i0\"><div class=\"mosaic-provider-jobcards-1oa1vqn ecydgvn0\"><div class=\"mosaic-provider-jobcards-1f1q1js ecydgvn1\">401(k) matching</div></div></li><li class=\"mosaic-provider-jobcards-wth5js e1xnxm2i0\"><div class=\"mosaic-provider-jobcards-1oa1vqn ecydgvn0\"><div class=\"mosaic-provider-jobcards-1f1q1js ecydgvn1\">Paid time off</div></div></li></ul><div class=\"heading6 error-text tapItem-gutter\"></div></div></td></tr></tbody></table><div class=\"ctaContainer ctaContainer_withCompanyInfo\"><button aria-label=\"Save job Toggle\" aria-pressed=\"false\" class=\"bookmark bookmark-tap-target mosaic-provider-jobcards-ykqx5t e8ju0x50\"><svg aria-hidden=\"true\" class=\"mosaic-provider-jobcards-s0xhw4 eac13zx0\" fill=\"currentColor\" focusable=\"false\" role=\"presentation\" viewbox=\"0 0 24 24\" xmlns=\"http://www.w3.org/2000/svg\"><path d=\"M11.9999 18.2214l-4.0268 1.7222c-.7583.3192-1.4773.2559-2.157-.19-.6796-.4456-1.0195-1.0763-1.0195-1.892V5.0719c0-.6297.2218-1.1663.6653-1.6098s.98-.6652 1.6097-.6652h9.8565c.6297 0 1.1663.2217 1.6098.6652s.6652.9801.6652 1.6098v12.7897c0 .8157-.3398 1.4464-1.0195 1.892-.6796.4459-1.3986.5092-2.157.19l-4.0267-1.7222zm0-2.493l4.9282 2.1142V5.0719H7.0716v12.7707L12 15.7284z\"></path></svg></button></div><div aria-live=\"polite\"></div></div>,\n",
       " <div class=\"job_seen_beacon\"><table cellpadding=\"0\" cellspacing=\"0\" class=\"mainContentTable css-131ju4w eu4oa1w0\" role=\"presentation\"><tbody><tr><td class=\"resultContent css-1o6lhys eu4oa1w0\"><div class=\"css-pt3vth e37uo190\"><h2 class=\"jobTitle mosaic-provider-jobcards-1o1rnx9 eu4oa1w0\" tabindex=\"-1\"><a aria-label=\"full details of Student Researcher, BS/MS, Fall 2025\" class=\"jcs-JobTitle css-1baag51 eu4oa1w0\" data-hide-spinner=\"true\" data-hiring-event=\"false\" data-jk=\"0f52c50aa0c0ca65\" data-mobtk=\"1j6k9a8oag2vh86d\" href=\"/rc/clk?jk=0f52c50aa0c0ca65&amp;bb=6BvJ0kJ1ahkVhDQE46-36spiHFMJ5xa08ezVcQDy9SaYcWhbB8A8CXGvIPtkEf8oqCT6iDvdDkh5S9JvslDACtPd88AuifLE971dZjoy_i1tLRm9Djw8KHOB-evsqPmpvz_NseFFcctQkcAJ85TkgA%3D%3D&amp;xkcb=SoC967M3sUamxigREr0IbzkdCdPP&amp;fccid=a5b4499d9e91a5c6&amp;vjs=3\" id=\"job_0f52c50aa0c0ca65\" role=\"button\"><span id=\"jobTitle-0f52c50aa0c0ca65\" title=\"Student Researcher, BS/MS, Fall 2025\">Student Researcher, BS/MS, Fall 2025</span></a></h2></div><div class=\"company_location css-10q8be3 e37uo190\"><div data-testid=\"timing-attribute\"><div class=\"css-1afmp4o e37uo190\"><span class=\"css-1ssrdda eu4oa1w0\" data-testid=\"company-name\">Google</span></div><div class=\"css-1f06pz4 eu4oa1w0\" data-testid=\"text-location\">Pittsburgh, PA<!-- --> <div class=\"css-14rqksf eu4oa1w0\">(<!-- -->Larimer area<!-- -->)</div></div></div></div><div class=\"css-1b7u11v eu4oa1w0\"><div class=\"css-1a6kja7 e37uo190\"><h2 class=\"mosaic-provider-jobcards-5vqdjd e1tiznh50\">$92,000 - $122,000</h2><span class=\"mosaic-provider-jobcards-1mg9wsc e1wnkr790\">a year</span></div></div><div class=\"jobMetaDataGroup css-1bx5raa eu4oa1w0\"><ul class=\"heading6 tapItem-gutter metadataContainer mosaic-provider-jobcards-da3x4j eu4oa1w0\"><li class=\"mosaic-provider-jobcards-wth5js e1xnxm2i0\" data-testid=\"attribute_snippet_testid\"><div class=\"mosaic-provider-jobcards-1oa1vqn ecydgvn0\"><div class=\"mosaic-provider-jobcards-1f1q1js ecydgvn1\">Internship</div></div></li></ul><div class=\"heading6 error-text tapItem-gutter\"></div></div></td></tr></tbody></table><div class=\"css-1hysxc6 eu4oa1w0\" data-testid=\"location-rollup\"><a aria-label=\"View similar jobs with this employer\" class=\"css-1dpuwp7 e71d0lh0\" href=\"/addlLoc/redirect?tk=1j6k9a8oag2vh86d&amp;jk=0f52c50aa0c0ca65&amp;dest=%2Fjobs%3Fq%3Dmachine%2Blearning%26l%3Dpittsburgh%2Bpa%26radius%3D25%26grpKey%3DoAEB8gcFdG5mZWy4D5gqqhAfCglub3JtdGl0bGUaEnN0dWRlbnQgcmVzZWFyY2hlcg%253D%253D\">View similar jobs with this employer<svg aria-hidden=\"true\" class=\"mosaic-provider-jobcards-11dmwc2 eac13zx0\" fill=\"currentColor\" focusable=\"false\" role=\"img\" viewbox=\"0 0 24 24\" xmlns=\"http://www.w3.org/2000/svg\"><path d=\"M17.864 13.1383H2.9402c-.3191 0-.5886-.1097-.8082-.3292-.2195-.2197-.3293-.4891-.3293-.8083 0-.3191.1098-.5886.3293-.8082.2196-.2195.489-.3293.8082-.3293h14.918l-3.66-3.6727c-.2151-.2114-.3259-.4744-.3322-.7893-.0063-.3148.1044-.5841.3322-.808.2114-.2113.4776-.316.7988-.314.3212.002.5874.1086.7987.3198l5.606 5.606c.1119.112.1926.2363.2423.373.0497.1365.0745.2794.0745.4287 0 .1494-.0248.2913-.0745.4258-.0497.1346-.1304.258-.2423.37l-5.606 5.6117c-.2113.2114-.4734.318-.7862.32-.3128.002-.5833-.1046-.8113-.32-.2278-.2278-.3417-.4971-.3417-.808 0-.3108.1139-.5802.3417-.8082l3.6658-3.6598z\"></path></svg></a></div><div class=\"ctaContainer ctaContainer_withCompanyInfo\"><button aria-label=\"Save job Toggle\" aria-pressed=\"false\" class=\"bookmark bookmark-tap-target mosaic-provider-jobcards-ykqx5t e8ju0x50\"><svg aria-hidden=\"true\" class=\"mosaic-provider-jobcards-s0xhw4 eac13zx0\" fill=\"currentColor\" focusable=\"false\" role=\"presentation\" viewbox=\"0 0 24 24\" xmlns=\"http://www.w3.org/2000/svg\"><path d=\"M11.9999 18.2214l-4.0268 1.7222c-.7583.3192-1.4773.2559-2.157-.19-.6796-.4456-1.0195-1.0763-1.0195-1.892V5.0719c0-.6297.2218-1.1663.6653-1.6098s.98-.6652 1.6097-.6652h9.8565c.6297 0 1.1663.2217 1.6098.6652s.6652.9801.6652 1.6098v12.7897c0 .8157-.3398 1.4464-1.0195 1.892-.6796.4459-1.3986.5092-2.157.19l-4.0267-1.7222zm0-2.493l4.9282 2.1142V5.0719H7.0716v12.7707L12 15.7284z\"></path></svg></button></div><div aria-live=\"polite\"></div></div>,\n",
       " <div class=\"job_seen_beacon\"><table cellpadding=\"0\" cellspacing=\"0\" class=\"mainContentTable css-131ju4w eu4oa1w0\" role=\"presentation\"><tbody><tr><td class=\"resultContent css-1o6lhys eu4oa1w0\"><div class=\"css-pt3vth e37uo190\"><h2 class=\"jobTitle mosaic-provider-jobcards-1o1rnx9 eu4oa1w0\" tabindex=\"-1\"><a aria-label=\"full details of Machine Learning Research Engineer - Mellon College of Science - Pittsburgh Supercomputing Center\" class=\"jcs-JobTitle css-1baag51 eu4oa1w0\" data-hide-spinner=\"true\" data-hiring-event=\"false\" data-jk=\"aacc3dee0d458827\" data-mobtk=\"1j6k9a8oag2vh86d\" href=\"/rc/clk?jk=aacc3dee0d458827&amp;bb=6BvJ0kJ1ahkVhDQE46-36va1pktBVYTwh_SJeAjPpVP1IQ-erJWty6fw0QZmJk0VsadUILtNLPTdo0XnpUjoXIivFUT9V7UkCDRPGvsdN0_eo_xRLh2fNNWfOGEZx9tKbfgbBWqoVcBicMMqOr4dgQ%3D%3D&amp;xkcb=SoAz67M3sUamxigREr0PbzkdCdPP&amp;fccid=7655fb7543c6cbbf&amp;vjs=3\" id=\"job_aacc3dee0d458827\" role=\"button\"><span id=\"jobTitle-aacc3dee0d458827\" title=\"Machine Learning Research Engineer - Mellon College of Science - Pittsburgh Supercomputing Center\">Machine Learning Research Engineer - Mellon College of Science - Pittsburgh Supercomputing Center</span></a></h2></div><div class=\"company_location css-10q8be3 e37uo190\"><div data-testid=\"timing-attribute\"><div class=\"css-1afmp4o e37uo190\"><span class=\"css-1ssrdda eu4oa1w0\" data-testid=\"company-name\">Carnegie Mellon University</span></div><div class=\"css-1f06pz4 eu4oa1w0\" data-testid=\"text-location\">Pittsburgh, PA</div></div></div><div class=\"css-1q6otk eu4oa1w0\"><div class=\"mosaic-provider-jobcards-wth5js e1xnxm2i0\"><div class=\"mosaic-provider-jobcards-1oa1vqn ecydgvn0\"><div class=\"mosaic-provider-jobcards-1f1q1js ecydgvn1\">Pay information not provided</div></div></div></div><div class=\"jobMetaDataGroup css-1bx5raa eu4oa1w0\"><ul class=\"heading6 tapItem-gutter metadataContainer mosaic-provider-jobcards-da3x4j eu4oa1w0\"><li class=\"mosaic-provider-jobcards-wth5js e1xnxm2i0\" data-testid=\"attribute_snippet_testid\"><div class=\"mosaic-provider-jobcards-1oa1vqn ecydgvn0\"><div class=\"mosaic-provider-jobcards-1f1q1js ecydgvn1\">Full-time</div></div></li><li class=\"mosaic-provider-jobcards-wth5js e1xnxm2i0\"><div class=\"mosaic-provider-jobcards-1oa1vqn ecydgvn0\"><div class=\"mosaic-provider-jobcards-1f1q1js ecydgvn1\">Tuition reimbursement</div></div></li><li class=\"mosaic-provider-jobcards-wth5js e1xnxm2i0\"><div class=\"mosaic-provider-jobcards-1oa1vqn ecydgvn0\"><div class=\"mosaic-provider-jobcards-1f1q1js ecydgvn1\">Health insurance</div></div></li><li class=\"mosaic-provider-jobcards-wth5js e1xnxm2i0\"><div class=\"mosaic-provider-jobcards-1oa1vqn ecydgvn0\"><div class=\"mosaic-provider-jobcards-1f1q1js ecydgvn1\">Paid time off</div></div></li><li class=\"mosaic-provider-jobcards-wth5js e1xnxm2i0\"><div class=\"mosaic-provider-jobcards-1oa1vqn ecydgvn0\"><div class=\"mosaic-provider-jobcards-1f1q1js ecydgvn1\">Vision insurance</div></div></li><li class=\"mosaic-provider-jobcards-wth5js e1xnxm2i0\"><div class=\"mosaic-provider-jobcards-1oa1vqn ecydgvn0\"><div class=\"mosaic-provider-jobcards-1f1q1js ecydgvn1\">Dental insurance</div></div></li><li class=\"mosaic-provider-jobcards-wth5js e1xnxm2i0\"><div class=\"mosaic-provider-jobcards-1oa1vqn ecydgvn0\"><div class=\"mosaic-provider-jobcards-1f1q1js ecydgvn1\">Disability insurance</div></div></li></ul><div class=\"heading6 error-text tapItem-gutter\"></div></div></td></tr></tbody></table><div class=\"ctaContainer ctaContainer_withCompanyInfo\"><button aria-label=\"Save job Toggle\" aria-pressed=\"false\" class=\"bookmark bookmark-tap-target mosaic-provider-jobcards-ykqx5t e8ju0x50\"><svg aria-hidden=\"true\" class=\"mosaic-provider-jobcards-s0xhw4 eac13zx0\" fill=\"currentColor\" focusable=\"false\" role=\"presentation\" viewbox=\"0 0 24 24\" xmlns=\"http://www.w3.org/2000/svg\"><path d=\"M11.9999 18.2214l-4.0268 1.7222c-.7583.3192-1.4773.2559-2.157-.19-.6796-.4456-1.0195-1.0763-1.0195-1.892V5.0719c0-.6297.2218-1.1663.6653-1.6098s.98-.6652 1.6097-.6652h9.8565c.6297 0 1.1663.2217 1.6098.6652s.6652.9801.6652 1.6098v12.7897c0 .8157-.3398 1.4464-1.0195 1.892-.6796.4459-1.3986.5092-2.157.19l-4.0267-1.7222zm0-2.493l4.9282 2.1142V5.0719H7.0716v12.7707L12 15.7284z\"></path></svg></button></div><div aria-live=\"polite\"></div></div>,\n",
       " <div class=\"job_seen_beacon\"><table cellpadding=\"0\" cellspacing=\"0\" class=\"mainContentTable css-131ju4w eu4oa1w0\" role=\"presentation\"><tbody><tr><td class=\"resultContent css-1o6lhys eu4oa1w0\"><div class=\"css-pt3vth e37uo190\"><h2 class=\"jobTitle mosaic-provider-jobcards-1o1rnx9 eu4oa1w0\" tabindex=\"-1\"><a aria-label=\"full details of Machine Learning Research Engineer - Mellon College of Science - Pittsburgh Supercomputing Center\" class=\"jcs-JobTitle css-1baag51 eu4oa1w0\" data-hide-spinner=\"true\" data-hiring-event=\"false\" data-jk=\"fedcba9876543210\" data-mobtk=\"1j6k9a8oag2vh86d\" href=\"/viewjob?jk=fedcba9876543210\" id=\"job_fedcba9876543210\" rel=\"nofollow\" role=\"button\" tabindex=\"-1\"><span id=\"jobTitle-aacc3dee0d458827\" title=\"Machine Learning Research Engineer - Mellon College of Science - Pittsburgh Supercomputing Center\">Machine Learning Research Engineer - Mellon College of Science - Pittsburgh Supercomputing Center</span></a></h2></div><div class=\"company_location css-10q8be3 e37uo190\"><div data-testid=\"timing-attribute\"><div class=\"css-1afmp4o e37uo190\"><span class=\"css-1ssrdda eu4oa1w0\" data-testid=\"company-name\">Carnegie Mellon University</span></div><div class=\"css-1f06pz4 eu4oa1w0\" data-testid=\"text-location\">Pittsburgh, PA</div></div></div><div class=\"css-1q6otk eu4oa1w0\"><div class=\"mosaic-provider-jobcards-wth5js e1xnxm2i0\"><div class=\"mosaic-provider-jobcards-1oa1vqn ecydgvn0\"><div class=\"mosaic-provider-jobcards-1f1q1js ecydgvn1\">Pay information not provided</div></div></div></div><div class=\"jobMetaDataGroup css-1bx5raa eu4oa1w0\"><ul class=\"heading6 tapItem-gutter metadataContainer mosaic-provider-jobcards-da3x4j eu4oa1w0\"><li class=\"mosaic-provider-jobcards-wth5js e1xnxm2i0\" data-testid=\"attribute_snippet_testid\"><div class=\"mosaic-provider-jobcards-1oa1vqn ecydgvn0\"><div class=\"mosaic-provider-jobcards-1f1q1js ecydgvn1\">Full-time</div></div></li><li class=\"mosaic-provider-jobcards-wth5js e1xnxm2i0\"><div class=\"mosaic-provider-jobcards-1oa1vqn ecydgvn0\"><div class=\"mosaic-provider-jobcards-1f1q1js ecydgvn1\">Tuition reimbursement</div></div></li><li class=\"mosaic-provider-jobcards-wth5js e1xnxm2i0\"><div class=\"mosaic-provider-jobcards-1oa1vqn ecydgvn0\"><div class=\"mosaic-provider-jobcards-1f1q1js ecydgvn1\">Health insurance</div></div></li><li class=\"mosaic-provider-jobcards-wth5js e1xnxm2i0\"><div class=\"mosaic-provider-jobcards-1oa1vqn ecydgvn0\"><div class=\"mosaic-provider-jobcards-1f1q1js ecydgvn1\">Paid time off</div></div></li><li class=\"mosaic-provider-jobcards-wth5js e1xnxm2i0\"><div class=\"mosaic-provider-jobcards-1oa1vqn ecydgvn0\"><div class=\"mosaic-provider-jobcards-1f1q1js ecydgvn1\">Vision insurance</div></div></li><li class=\"mosaic-provider-jobcards-wth5js e1xnxm2i0\"><div class=\"mosaic-provider-jobcards-1oa1vqn ecydgvn0\"><div class=\"mosaic-provider-jobcards-1f1q1js ecydgvn1\">Dental insurance</div></div></li><li class=\"mosaic-provider-jobcards-wth5js e1xnxm2i0\"><div class=\"mosaic-provider-jobcards-1oa1vqn ecydgvn0\"><div class=\"mosaic-provider-jobcards-1f1q1js ecydgvn1\">Disability insurance</div></div></li></ul><div class=\"heading6 error-text tapItem-gutter\"></div></div></td></tr></tbody></table><div class=\"ctaContainer ctaContainer_withCompanyInfo\"><button aria-label=\"Save job Toggle\" aria-pressed=\"false\" class=\"bookmark bookmark-tap-target mosaic-provider-jobcards-ykqx5t e8ju0x50\" tabindex=\"-1\"><svg aria-hidden=\"true\" class=\"mosaic-provider-jobcards-s0xhw4 eac13zx0\" fill=\"currentColor\" focusable=\"false\" role=\"presentation\" viewbox=\"0 0 24 24\" xmlns=\"http://www.w3.org/2000/svg\"><path d=\"M11.9999 18.2214l-4.0268 1.7222c-.7583.3192-1.4773.2559-2.157-.19-.6796-.4456-1.0195-1.0763-1.0195-1.892V5.0719c0-.6297.2218-1.1663.6653-1.6098s.98-.6652 1.6097-.6652h9.8565c.6297 0 1.1663.2217 1.6098.6652s.6652.9801.6652 1.6098v12.7897c0 .8157-.3398 1.4464-1.0195 1.892-.6796.4459-1.3986.5092-2.157.19l-4.0267-1.7222zm0-2.493l4.9282 2.1142V5.0719H7.0716v12.7707L12 15.7284z\"></path></svg></button></div><div aria-live=\"polite\"></div></div>,\n",
       " <div class=\"job_seen_beacon\"><table cellpadding=\"0\" cellspacing=\"0\" class=\"mainContentTable css-131ju4w eu4oa1w0\" role=\"presentation\"><tbody><tr><td class=\"resultContent css-1o6lhys eu4oa1w0\"><div class=\"css-pt3vth e37uo190\"><h2 class=\"jobTitle mosaic-provider-jobcards-1o1rnx9 eu4oa1w0\" tabindex=\"-1\"><a aria-label=\"full details of Technology Engineer, NAS, NetApp\" class=\"jcs-JobTitle css-1baag51 eu4oa1w0\" data-ci=\"344240612\" data-empn=\"2359887406837421\" data-hide-spinner=\"true\" data-hiring-event=\"false\" data-jk=\"b9616e54c75b9487\" data-mobtk=\"1j6k9a8oag2vh86d\" href=\"/pagead/clk?mo=r&amp;ad=-6NYlbfkN0AMofH_6zXbiqn6xehDj89HQNfpf30LHk40Y3Yl5cZTpm-EXukPQNet_K9MQV9Co4yRdcJ11mqwYEZxpvPlNEuzRdtljuxRnscaJPAntVq4dP_Kckdk23RFyzQS6qCyUeNV0yeld6igNITb0lGDjpNTsgtiBwGlqWMb9TLisD_nXTOGRmo83jQha7gVPtV3jv-NJUxSGBpTqufsPudNupaYA9YAaxhl3jr5Rj9oFxsMQuR9c91TeZltbFFSeduMHykzWPQ-u7sBcJDb0KujLuAAfaAzsTXgANKOd7j5UpucaqYrGl83Yc-jQM3m7Qw9uH7_Qw5sY_2g6dtHxywclG2z0faWT_0iLVAK3VCRdbGsWAex1Hj5pCmPUMQJYHyNwQ2DAZ67CDHYTKhHJ2Y9SI_k6fBo9Sxccis70NQ_zOq6k1TxXnTYWAPMY2-muXKCzFOrmTMfhHcTqWHEIWkRI9IYWy7fg_1HKLX8ODuZ3LgM8xTYOF_6cz1KbcJnIviLah6APgMCejdqo-BmIe5JO69PM1n26QZpNje2D3Y4X_8N2lUMgBw6jIDi5S5NHQ3xuhu7I9BHTCgQ_yKNd-KSxylXtHSy8aAqNyjNkcbteazzIRWtA9O3V2O2YweVV-EtMvktT7qw4m-Sh7OfWJYNFXFwooAJrO-AdnlFGveymrJV_ycfDcuxZY5fMAWruHKgzu9E8USrJfSLm28qqIVoaEcLj7iisqHJ8EdVJxwe4CzUEiI1PdcrD5q2agCRT_Sc4F352e0cIfIWharKVEzXI_wqz-alF-mdelknws0W8Gqx_IRBoi8QLUeM2rRM8C5rB_RugFz96D-9w8hjvKz3Ez1BRWQqwdeF_81UNmaIAHc1hXWwNWI8Bx_6BV1XuIn6DI2ZNr8k5Mcl5M3gp1RQpBj7QNkwrdyCyi8spoRECJNs9o0ISr0RzaULJ0XUIyVDv1BFMFhbFd-up58veZAz-lkp7-MB5zPT82UdIRmbJf3Ybu9zFcec9BMGf-G-Wvp-5dKnslVP-ZaiZyPCvoMR4hI1fuImtf7v9mRm1jhlKoGWWG7hOpn2-gexJjI0A6stoZvahXXaJj76zTT86UKSBlc_h6bcMhgssr0GYIGVfyBRzqqKxWEqXjtbdaGOU5AmEJMwMIFqK45Qdu_pscUuHcK7ROHXLVFClE3ehtXm4t2PjENLUonZFRi0nWLXadnWOl2_bgRqbLtR-U-JGFXJW7IOhWTGKQdX0bhVGZYRU330tjr5mLKuMP_EzvinT3b0sz3zsHV6oWgvpgMLyu2WvgC1XN7b7bazOpkXDT6X9Eb0Ww==&amp;xkcb=SoBz6_M3sUamxigREr0ObzkdCdPP&amp;camk=tQsC0y0u1LpwjyZvQ6w3oQ==&amp;p=5&amp;fvj=0&amp;vjs=3\" id=\"sj_b9616e54c75b9487\" role=\"button\"><span id=\"jobTitle-b9616e54c75b9487\" title=\"Technology Engineer, NAS, NetApp\">Technology Engineer, NAS, NetApp</span></a></h2></div><div class=\"company_location css-10q8be3 e37uo190\"><div data-testid=\"timing-attribute\"><div class=\"css-1afmp4o e37uo190\"><span class=\"css-1ssrdda eu4oa1w0\" data-testid=\"company-name\">PNC Financial Services Group</span></div><div class=\"css-1f06pz4 eu4oa1w0\" data-testid=\"text-location\">Pittsburgh, PA 15222<!-- --> <div class=\"css-14rqksf eu4oa1w0\">(<!-- -->Strip District area<!-- -->)</div></div></div></div><div class=\"css-1q6otk eu4oa1w0\"><div class=\"mosaic-provider-jobcards-wth5js e1xnxm2i0\"><div class=\"mosaic-provider-jobcards-1oa1vqn ecydgvn0\"><div class=\"mosaic-provider-jobcards-1f1q1js ecydgvn1\">Pay information not provided</div></div></div></div><div class=\"jobMetaDataGroup css-1bx5raa eu4oa1w0\"><ul class=\"heading6 tapItem-gutter metadataContainer mosaic-provider-jobcards-da3x4j eu4oa1w0\"><li class=\"mosaic-provider-jobcards-wth5js e1xnxm2i0\" data-testid=\"attribute_snippet_testid\"><div class=\"mosaic-provider-jobcards-1oa1vqn ecydgvn0\"><div class=\"mosaic-provider-jobcards-1f1q1js ecydgvn1\">Full-time</div></div></li><li class=\"mosaic-provider-jobcards-wth5js e1xnxm2i0\" data-testid=\"attribute_snippet_testid\"><div class=\"mosaic-provider-jobcards-1oa1vqn ecydgvn0\"><div class=\"mosaic-provider-jobcards-1f1q1js ecydgvn1\">Monday to Friday</div><div class=\"mosaic-provider-jobcards-1f1q1js ecydgvn1\"><span class=\"css-12dr2u9 eu4oa1w0\">+<!-- -->1</span></div></div></li><li class=\"mosaic-provider-jobcards-wth5js e1xnxm2i0\"><div class=\"mosaic-provider-jobcards-1oa1vqn ecydgvn0\"><div class=\"mosaic-provider-jobcards-1f1q1js ecydgvn1\">Tuition reimbursement</div></div></li><li class=\"mosaic-provider-jobcards-wth5js e1xnxm2i0\"><div class=\"mosaic-provider-jobcards-1oa1vqn ecydgvn0\"><div class=\"mosaic-provider-jobcards-1f1q1js ecydgvn1\">Prescription drug insurance</div></div></li><li class=\"mosaic-provider-jobcards-wth5js e1xnxm2i0\"><div class=\"mosaic-provider-jobcards-1oa1vqn ecydgvn0\"><div class=\"mosaic-provider-jobcards-1f1q1js ecydgvn1\">Parental leave</div></div></li><li class=\"mosaic-provider-jobcards-wth5js e1xnxm2i0\"><div class=\"mosaic-provider-jobcards-1oa1vqn ecydgvn0\"><div class=\"mosaic-provider-jobcards-1f1q1js ecydgvn1\">Health insurance</div></div></li><li class=\"mosaic-provider-jobcards-wth5js e1xnxm2i0\"><div class=\"mosaic-provider-jobcards-1oa1vqn ecydgvn0\"><div class=\"mosaic-provider-jobcards-1f1q1js ecydgvn1\">401(k) matching</div></div></li><li class=\"mosaic-provider-jobcards-wth5js e1xnxm2i0\"><div class=\"mosaic-provider-jobcards-1oa1vqn ecydgvn0\"><div class=\"mosaic-provider-jobcards-1f1q1js ecydgvn1\">Paid time off</div></div></li></ul><div class=\"heading6 error-text tapItem-gutter\"></div></div></td></tr></tbody></table><div class=\"css-1hysxc6 eu4oa1w0\" data-testid=\"location-rollup\"><a aria-label=\"View similar jobs with this employer\" class=\"css-1dpuwp7 e71d0lh0\" href=\"/addlLoc/redirect?tk=1j6k9a8oag2vh86d&amp;jk=b9616e54c75b9487&amp;dest=%2Fjobs%3Fq%3Dmachine%2Blearning%26l%3Dpittsburgh%2Bpa%26radius%3D25%26grpKey%3DoAEB8gcFdG5mZWy4D9mzA6oQFQoJbm9ybXRpdGxlGghlbmdpbmVlcg%253D%253D\">View similar jobs with this employer<svg aria-hidden=\"true\" class=\"mosaic-provider-jobcards-11dmwc2 eac13zx0\" fill=\"currentColor\" focusable=\"false\" role=\"img\" viewbox=\"0 0 24 24\" xmlns=\"http://www.w3.org/2000/svg\"><path d=\"M17.864 13.1383H2.9402c-.3191 0-.5886-.1097-.8082-.3292-.2195-.2197-.3293-.4891-.3293-.8083 0-.3191.1098-.5886.3293-.8082.2196-.2195.489-.3293.8082-.3293h14.918l-3.66-3.6727c-.2151-.2114-.3259-.4744-.3322-.7893-.0063-.3148.1044-.5841.3322-.808.2114-.2113.4776-.316.7988-.314.3212.002.5874.1086.7987.3198l5.606 5.606c.1119.112.1926.2363.2423.373.0497.1365.0745.2794.0745.4287 0 .1494-.0248.2913-.0745.4258-.0497.1346-.1304.258-.2423.37l-5.606 5.6117c-.2113.2114-.4734.318-.7862.32-.3128.002-.5833-.1046-.8113-.32-.2278-.2278-.3417-.4971-.3417-.808 0-.3108.1139-.5802.3417-.8082l3.6658-3.6598z\"></path></svg></a></div><div class=\"ctaContainer ctaContainer_withCompanyInfo\"><button aria-label=\"Save job Toggle\" aria-pressed=\"false\" class=\"bookmark bookmark-tap-target mosaic-provider-jobcards-ykqx5t e8ju0x50\"><svg aria-hidden=\"true\" class=\"mosaic-provider-jobcards-s0xhw4 eac13zx0\" fill=\"currentColor\" focusable=\"false\" role=\"presentation\" viewbox=\"0 0 24 24\" xmlns=\"http://www.w3.org/2000/svg\"><path d=\"M11.9999 18.2214l-4.0268 1.7222c-.7583.3192-1.4773.2559-2.157-.19-.6796-.4456-1.0195-1.0763-1.0195-1.892V5.0719c0-.6297.2218-1.1663.6653-1.6098s.98-.6652 1.6097-.6652h9.8565c.6297 0 1.1663.2217 1.6098.6652s.6652.9801.6652 1.6098v12.7897c0 .8157-.3398 1.4464-1.0195 1.892-.6796.4459-1.3986.5092-2.157.19l-4.0267-1.7222zm0-2.493l4.9282 2.1142V5.0719H7.0716v12.7707L12 15.7284z\"></path></svg></button></div><div aria-live=\"polite\"></div></div>,\n",
       " <div class=\"job_seen_beacon\"><table cellpadding=\"0\" cellspacing=\"0\" class=\"mainContentTable css-131ju4w eu4oa1w0\" role=\"presentation\"><tbody><tr><td class=\"resultContent css-1o6lhys eu4oa1w0\"><div class=\"css-pt3vth e37uo190\"><h2 class=\"jobTitle mosaic-provider-jobcards-1o1rnx9 eu4oa1w0\" tabindex=\"-1\"><a aria-label=\"full details of Software Engineer - Machine Learning\" class=\"jcs-JobTitle css-1baag51 eu4oa1w0\" data-hide-spinner=\"true\" data-hiring-event=\"false\" data-jk=\"696f8bb513ef7f70\" data-mobtk=\"1j6k9a8oag2vh86d\" href=\"/rc/clk?jk=696f8bb513ef7f70&amp;bb=6BvJ0kJ1ahkVhDQE46-36g558MScniL199y3vkrdE5jxbhkuyOPIfjYpJLVSXtOU3BsUwP9urPMCRbqglPM9Vii3_MBRtfmjnF06KsURpaCZgTdVq1N7Wv0RRCDQ-XDx9fXB_rq2Gb48Ut2xgNhJtg%3D%3D&amp;xkcb=SoAa67M3sUamxigREr0NbzkdCdPP&amp;fccid=3aa37f402da13777&amp;vjs=3\" id=\"job_696f8bb513ef7f70\" role=\"button\"><span id=\"jobTitle-696f8bb513ef7f70\" title=\"Software Engineer - Machine Learning\">Software Engineer - Machine Learning</span></a></h2></div><div class=\"company_location css-10q8be3 e37uo190\"><div data-testid=\"timing-attribute\"><div class=\"css-1afmp4o e37uo190\"><span class=\"css-1ssrdda eu4oa1w0\" data-testid=\"company-name\">Hike2</span></div><div class=\"css-1f06pz4 eu4oa1w0\" data-testid=\"text-location\">Remote in Pittsburgh, PA</div></div></div><div class=\"css-1b7u11v eu4oa1w0\"><div class=\"css-1a6kja7 e37uo190\"><h2 class=\"mosaic-provider-jobcards-5vqdjd e1tiznh50\">$100,000 - $170,000</h2><span class=\"mosaic-provider-jobcards-1mg9wsc e1wnkr790\">a year</span></div></div><div class=\"jobMetaDataGroup css-1bx5raa eu4oa1w0\"><ul class=\"heading6 tapItem-gutter metadataContainer mosaic-provider-jobcards-da3x4j eu4oa1w0\"><li class=\"mosaic-provider-jobcards-wth5js e1xnxm2i0\"><div class=\"mosaic-provider-jobcards-1oa1vqn ecydgvn0\"><div class=\"mosaic-provider-jobcards-1f1q1js ecydgvn1\">Health insurance</div></div></li><li class=\"mosaic-provider-jobcards-wth5js e1xnxm2i0\"><div class=\"mosaic-provider-jobcards-1oa1vqn ecydgvn0\"><div class=\"mosaic-provider-jobcards-1f1q1js ecydgvn1\">401(k) matching</div></div></li><li class=\"mosaic-provider-jobcards-wth5js e1xnxm2i0\"><div class=\"mosaic-provider-jobcards-1oa1vqn ecydgvn0\"><div class=\"mosaic-provider-jobcards-1f1q1js ecydgvn1\">Paid time off</div></div></li><li class=\"mosaic-provider-jobcards-wth5js e1xnxm2i0\"><div class=\"mosaic-provider-jobcards-1oa1vqn ecydgvn0\"><div class=\"mosaic-provider-jobcards-1f1q1js ecydgvn1\">Vision insurance</div></div></li><li class=\"mosaic-provider-jobcards-wth5js e1xnxm2i0\"><div class=\"mosaic-provider-jobcards-1oa1vqn ecydgvn0\"><div class=\"mosaic-provider-jobcards-1f1q1js ecydgvn1\">Health savings account</div></div></li><li class=\"mosaic-provider-jobcards-wth5js e1xnxm2i0\"><div class=\"mosaic-provider-jobcards-1oa1vqn ecydgvn0\"><div class=\"mosaic-provider-jobcards-1f1q1js ecydgvn1\">Dental insurance</div></div></li></ul><div class=\"heading6 error-text tapItem-gutter\"></div></div><div class=\"css-r19t1s eu4oa1w0\" role=\"presentation\"><div class=\"css-1hurmnl eu4oa1w0\"><span class=\"iaIcon css-1f0h0ey e1wnkr790\"><style data-emotion=\"mosaic-provider-jobcards ptur8y\">.mosaic-provider-jobcards-ptur8y{inline-size:1.125rem;block-size:1.125rem;color:inherit;color:var(--ifl-colors-expressive-blue-800);}</style><svg aria-hidden=\"true\" class=\"mosaic-provider-jobcards-ptur8y eac13zx0\" fill=\"currentColor\" focusable=\"false\" role=\"img\" viewbox=\"0 0 24 24\" xmlns=\"http://www.w3.org/2000/svg\"><path d=\"M4.406 19.5326c-.3812.1574-.7417.1253-1.0815-.0962-.3399-.2217-.5098-.5398-.5098-.9543v-4.3145l8.275-2.1675-8.275-2.1675V5.5181c0-.4145.17-.7325.5097-.9542.3399-.2215.7004-.2536 1.0816-.0963l15.3402 6.482c.4685.2072.7027.5574.7027 1.0505 0 .4932-.2342.8434-.7027 1.0505l-15.3403 6.482z\"></path></svg><span>Easily apply</span></span><span class=\"css-qclps5 eu4oa1w0\"><div class=\"heading6 tapItem-gutter css-10i2iq4 eu4oa1w0\"></div></span></div></div></td></tr></tbody></table><div class=\"ctaContainer ctaContainer_withCompanyInfo\"><button aria-label=\"Save job Toggle\" aria-pressed=\"false\" class=\"bookmark bookmark-tap-target mosaic-provider-jobcards-ykqx5t e8ju0x50\"><svg aria-hidden=\"true\" class=\"mosaic-provider-jobcards-s0xhw4 eac13zx0\" fill=\"currentColor\" focusable=\"false\" role=\"presentation\" viewbox=\"0 0 24 24\" xmlns=\"http://www.w3.org/2000/svg\"><path d=\"M11.9999 18.2214l-4.0268 1.7222c-.7583.3192-1.4773.2559-2.157-.19-.6796-.4456-1.0195-1.0763-1.0195-1.892V5.0719c0-.6297.2218-1.1663.6653-1.6098s.98-.6652 1.6097-.6652h9.8565c.6297 0 1.1663.2217 1.6098.6652s.6652.9801.6652 1.6098v12.7897c0 .8157-.3398 1.4464-1.0195 1.892-.6796.4459-1.3986.5092-2.157.19l-4.0267-1.7222zm0-2.493l4.9282 2.1142V5.0719H7.0716v12.7707L12 15.7284z\"></path></svg></button></div><div aria-live=\"polite\"></div></div>,\n",
       " <div class=\"job_seen_beacon\"><table cellpadding=\"0\" cellspacing=\"0\" class=\"mainContentTable css-131ju4w eu4oa1w0\" role=\"presentation\"><tbody><tr><td class=\"resultContent css-1o6lhys eu4oa1w0\"><div class=\"css-pt3vth e37uo190\"><h2 class=\"jobTitle mosaic-provider-jobcards-1o1rnx9 eu4oa1w0\" tabindex=\"-1\"><a aria-label=\"full details of MACHINE LEARNING ENGINEER\" class=\"jcs-JobTitle css-1baag51 eu4oa1w0\" data-hide-spinner=\"true\" data-hiring-event=\"false\" data-jk=\"f529be1c093777fb\" data-mobtk=\"1j6k9a8oag2vh86d\" href=\"/rc/clk?jk=f529be1c093777fb&amp;bb=6BvJ0kJ1ahkVhDQE46-36s_xQKicqAhGKh0rFsrZjt4d3hTq3coNCI4lXpEyRR2UKej84VYmFMjgGMgRKUDG5f_8zPWf8YVE0GsiFrJbXHkPE-VHyx7sB-MmtMTvVWkljSU_LrxJIqcNmXERAAmM_w%3D%3D&amp;xkcb=SoCu67M3sUamxigREr0MbzkdCdPP&amp;fccid=68a181b72706f64f&amp;vjs=3\" id=\"job_f529be1c093777fb\" role=\"button\"><span id=\"jobTitle-f529be1c093777fb\" title=\"MACHINE LEARNING ENGINEER\">MACHINE LEARNING ENGINEER</span></a></h2></div><div class=\"company_location css-10q8be3 e37uo190\"><div data-testid=\"timing-attribute\"><div class=\"css-1afmp4o e37uo190\"><span class=\"css-1ssrdda eu4oa1w0\" data-testid=\"company-name\">Qeexo, Co.</span></div><div class=\"css-1f06pz4 eu4oa1w0\" data-testid=\"text-location\">Pittsburgh, PA</div></div></div><div class=\"css-1b7u11v eu4oa1w0\"><div class=\"css-1a6kja7 e37uo190\"><h2 class=\"mosaic-provider-jobcards-5vqdjd e1tiznh50\">$105,000</h2><span class=\"mosaic-provider-jobcards-1mg9wsc e1wnkr790\">a year</span></div></div><div class=\"jobMetaDataGroup css-1bx5raa eu4oa1w0\"><ul class=\"heading6 tapItem-gutter metadataContainer mosaic-provider-jobcards-da3x4j eu4oa1w0\"></ul><div class=\"heading6 error-text tapItem-gutter\"></div></div><div class=\"css-r19t1s eu4oa1w0\" role=\"presentation\"><div class=\"css-1hurmnl eu4oa1w0\"><span class=\"iaIcon css-1f0h0ey e1wnkr790\"><svg aria-hidden=\"true\" class=\"mosaic-provider-jobcards-ptur8y eac13zx0\" fill=\"currentColor\" focusable=\"false\" role=\"img\" viewbox=\"0 0 24 24\" xmlns=\"http://www.w3.org/2000/svg\"><path d=\"M4.406 19.5326c-.3812.1574-.7417.1253-1.0815-.0962-.3399-.2217-.5098-.5398-.5098-.9543v-4.3145l8.275-2.1675-8.275-2.1675V5.5181c0-.4145.17-.7325.5097-.9542.3399-.2215.7004-.2536 1.0816-.0963l15.3402 6.482c.4685.2072.7027.5574.7027 1.0505 0 .4932-.2342.8434-.7027 1.0505l-15.3403 6.482z\"></path></svg><span>Easily apply</span></span><span class=\"css-qclps5 eu4oa1w0\"><div class=\"heading6 tapItem-gutter css-10i2iq4 eu4oa1w0\"></div></span></div></div></td></tr></tbody></table><div class=\"ctaContainer ctaContainer_withCompanyInfo\"><button aria-label=\"Save job Toggle\" aria-pressed=\"false\" class=\"bookmark bookmark-tap-target mosaic-provider-jobcards-ykqx5t e8ju0x50\"><svg aria-hidden=\"true\" class=\"mosaic-provider-jobcards-s0xhw4 eac13zx0\" fill=\"currentColor\" focusable=\"false\" role=\"presentation\" viewbox=\"0 0 24 24\" xmlns=\"http://www.w3.org/2000/svg\"><path d=\"M11.9999 18.2214l-4.0268 1.7222c-.7583.3192-1.4773.2559-2.157-.19-.6796-.4456-1.0195-1.0763-1.0195-1.892V5.0719c0-.6297.2218-1.1663.6653-1.6098s.98-.6652 1.6097-.6652h9.8565c.6297 0 1.1663.2217 1.6098.6652s.6652.9801.6652 1.6098v12.7897c0 .8157-.3398 1.4464-1.0195 1.892-.6796.4459-1.3986.5092-2.157.19l-4.0267-1.7222zm0-2.493l4.9282 2.1142V5.0719H7.0716v12.7707L12 15.7284z\"></path></svg></button></div><div aria-live=\"polite\"></div></div>,\n",
       " <div class=\"job_seen_beacon\"><table cellpadding=\"0\" cellspacing=\"0\" class=\"mainContentTable css-131ju4w eu4oa1w0\" role=\"presentation\"><tbody><tr><td class=\"resultContent css-1o6lhys eu4oa1w0\"><div class=\"css-pt3vth e37uo190\"><h2 class=\"jobTitle mosaic-provider-jobcards-1o1rnx9 eu4oa1w0\" tabindex=\"-1\"><a aria-label=\"full details of Machine Learning Engineering Lead\" class=\"jcs-JobTitle css-1baag51 eu4oa1w0\" data-hide-spinner=\"true\" data-hiring-event=\"false\" data-jk=\"4fdafb0b5d1d1044\" data-mobtk=\"1j6k9a8oag2vh86d\" href=\"/rc/clk?jk=4fdafb0b5d1d1044&amp;bb=6BvJ0kJ1ahkVhDQE46-36n76vAWPT3-fjy_wEBpOJEHqYiM9481my2m0uYI4xPS-NT1MTqHZqkqrWGhYb0YwOGTYhsZnaZO42zhEVYM5qxUmXcBDIUR54KRFcDK0yRF_yxiSNda-qaOamTMpeUK4Yw%3D%3D&amp;xkcb=SoBH67M3sUamxigREr0DbzkdCdPP&amp;fccid=ac429eb6be887f60&amp;vjs=3\" id=\"job_4fdafb0b5d1d1044\" role=\"button\"><span id=\"jobTitle-4fdafb0b5d1d1044\" title=\"Machine Learning Engineering Lead\">Machine Learning Engineering Lead</span></a></h2></div><div class=\"company_location css-10q8be3 e37uo190\"><div data-testid=\"timing-attribute\"><div class=\"css-1afmp4o e37uo190\"><span class=\"css-1ssrdda eu4oa1w0\" data-testid=\"company-name\">Credit Genie</span></div><div class=\"css-1f06pz4 eu4oa1w0\" data-testid=\"text-location\">Pittsburgh, PA</div></div></div><div class=\"css-1b7u11v eu4oa1w0\"><div class=\"css-1a6kja7 e37uo190\"><h2 class=\"mosaic-provider-jobcards-5vqdjd e1tiznh50\">$200,000 - $250,000</h2><span class=\"mosaic-provider-jobcards-1mg9wsc e1wnkr790\">a year</span></div></div><div class=\"jobMetaDataGroup css-1bx5raa eu4oa1w0\"><ul class=\"heading6 tapItem-gutter metadataContainer mosaic-provider-jobcards-da3x4j eu4oa1w0\"><li class=\"mosaic-provider-jobcards-wth5js e1xnxm2i0\"><div class=\"mosaic-provider-jobcards-1oa1vqn ecydgvn0\"><div class=\"mosaic-provider-jobcards-1f1q1js ecydgvn1\">Health insurance</div></div></li><li class=\"mosaic-provider-jobcards-wth5js e1xnxm2i0\"><div class=\"mosaic-provider-jobcards-1oa1vqn ecydgvn0\"><div class=\"mosaic-provider-jobcards-1f1q1js ecydgvn1\">401(k) matching</div></div></li><li class=\"mosaic-provider-jobcards-wth5js e1xnxm2i0\"><div class=\"mosaic-provider-jobcards-1oa1vqn ecydgvn0\"><div class=\"mosaic-provider-jobcards-1f1q1js ecydgvn1\">Paid time off</div></div></li><li class=\"mosaic-provider-jobcards-wth5js e1xnxm2i0\"><div class=\"mosaic-provider-jobcards-1oa1vqn ecydgvn0\"><div class=\"mosaic-provider-jobcards-1f1q1js ecydgvn1\">Vision insurance</div></div></li><li class=\"mosaic-provider-jobcards-wth5js e1xnxm2i0\"><div class=\"mosaic-provider-jobcards-1oa1vqn ecydgvn0\"><div class=\"mosaic-provider-jobcards-1f1q1js ecydgvn1\">Dental insurance</div></div></li><li class=\"mosaic-provider-jobcards-wth5js e1xnxm2i0\"><div class=\"mosaic-provider-jobcards-1oa1vqn ecydgvn0\"><div class=\"mosaic-provider-jobcards-1f1q1js ecydgvn1\">Gym membership</div></div></li></ul><div class=\"heading6 error-text tapItem-gutter\"></div></div><div class=\"css-r19t1s eu4oa1w0\" role=\"presentation\"><div class=\"css-1hurmnl eu4oa1w0\"><span class=\"iaIcon css-1f0h0ey e1wnkr790\"><svg aria-hidden=\"true\" class=\"mosaic-provider-jobcards-ptur8y eac13zx0\" fill=\"currentColor\" focusable=\"false\" role=\"img\" viewbox=\"0 0 24 24\" xmlns=\"http://www.w3.org/2000/svg\"><path d=\"M4.406 19.5326c-.3812.1574-.7417.1253-1.0815-.0962-.3399-.2217-.5098-.5398-.5098-.9543v-4.3145l8.275-2.1675-8.275-2.1675V5.5181c0-.4145.17-.7325.5097-.9542.3399-.2215.7004-.2536 1.0816-.0963l15.3402 6.482c.4685.2072.7027.5574.7027 1.0505 0 .4932-.2342.8434-.7027 1.0505l-15.3403 6.482z\"></path></svg><span>Easily apply</span></span><span class=\"css-qclps5 eu4oa1w0\"><div class=\"heading6 tapItem-gutter css-10i2iq4 eu4oa1w0\"></div></span></div></div></td></tr></tbody></table><div class=\"ctaContainer ctaContainer_withCompanyInfo\"><button aria-label=\"Save job Toggle\" aria-pressed=\"false\" class=\"bookmark bookmark-tap-target mosaic-provider-jobcards-ykqx5t e8ju0x50\"><svg aria-hidden=\"true\" class=\"mosaic-provider-jobcards-s0xhw4 eac13zx0\" fill=\"currentColor\" focusable=\"false\" role=\"presentation\" viewbox=\"0 0 24 24\" xmlns=\"http://www.w3.org/2000/svg\"><path d=\"M11.9999 18.2214l-4.0268 1.7222c-.7583.3192-1.4773.2559-2.157-.19-.6796-.4456-1.0195-1.0763-1.0195-1.892V5.0719c0-.6297.2218-1.1663.6653-1.6098s.98-.6652 1.6097-.6652h9.8565c.6297 0 1.1663.2217 1.6098.6652s.6652.9801.6652 1.6098v12.7897c0 .8157-.3398 1.4464-1.0195 1.892-.6796.4459-1.3986.5092-2.157.19l-4.0267-1.7222zm0-2.493l4.9282 2.1142V5.0719H7.0716v12.7707L12 15.7284z\"></path></svg></button></div><div aria-live=\"polite\"></div></div>,\n",
       " <div class=\"job_seen_beacon\"><table cellpadding=\"0\" cellspacing=\"0\" class=\"mainContentTable css-131ju4w eu4oa1w0\" role=\"presentation\"><tbody><tr><td class=\"resultContent css-1o6lhys eu4oa1w0\"><div class=\"css-pt3vth e37uo190\"><h2 class=\"jobTitle mosaic-provider-jobcards-1o1rnx9 eu4oa1w0\" tabindex=\"-1\"><a aria-label=\"full details of Machine Learning Engineer\" class=\"jcs-JobTitle css-1baag51 eu4oa1w0\" data-hide-spinner=\"true\" data-hiring-event=\"false\" data-jk=\"c1fbba7eab24f4e7\" data-mobtk=\"1j6k9a8oag2vh86d\" href=\"/rc/clk?jk=c1fbba7eab24f4e7&amp;bb=6BvJ0kJ1ahkVhDQE46-36tVZ3sE_ILo4MHhIy4ni2u1Gb5m0JI2rP8fJdLnJltmnhZsY_dMpnxLeW7ghPRn9SUDcxKcGeWyHNnTa203jHtilN8ITY3HVKBRVQwuMxAWKgRuP0kyKc5cnTrrAD_ZMsw%3D%3D&amp;xkcb=SoDz67M3sUamxigREr0CbzkdCdPP&amp;fccid=932bcab1f7ee18f8&amp;vjs=3\" id=\"job_c1fbba7eab24f4e7\" role=\"button\"><span id=\"jobTitle-c1fbba7eab24f4e7\" title=\"Machine Learning Engineer\">Machine Learning Engineer</span></a></h2></div><div class=\"company_location css-10q8be3 e37uo190\"><div data-testid=\"timing-attribute\"><div class=\"css-1afmp4o e37uo190\"><span class=\"css-1ssrdda eu4oa1w0\" data-testid=\"company-name\">Govini</span></div><div class=\"css-1f06pz4 eu4oa1w0\" data-testid=\"text-location\">Pittsburgh, PA 15201<!-- --> <div class=\"css-14rqksf eu4oa1w0\">(<!-- -->Lower Lawrenceville area<!-- -->)</div></div></div></div><div class=\"css-1q6otk eu4oa1w0\"><div class=\"mosaic-provider-jobcards-wth5js e1xnxm2i0\"><div class=\"mosaic-provider-jobcards-1oa1vqn ecydgvn0\"><div class=\"mosaic-provider-jobcards-1f1q1js ecydgvn1\">Pay information not provided</div></div></div></div><div class=\"jobMetaDataGroup css-1bx5raa eu4oa1w0\"><ul class=\"heading6 tapItem-gutter metadataContainer mosaic-provider-jobcards-da3x4j eu4oa1w0\"></ul><div class=\"heading6 error-text tapItem-gutter\"></div></div><div class=\"css-r19t1s eu4oa1w0\" role=\"presentation\"><div class=\"css-1hurmnl eu4oa1w0\"><span class=\"iaIcon css-1f0h0ey e1wnkr790\"><svg aria-hidden=\"true\" class=\"mosaic-provider-jobcards-ptur8y eac13zx0\" fill=\"currentColor\" focusable=\"false\" role=\"img\" viewbox=\"0 0 24 24\" xmlns=\"http://www.w3.org/2000/svg\"><path d=\"M4.406 19.5326c-.3812.1574-.7417.1253-1.0815-.0962-.3399-.2217-.5098-.5398-.5098-.9543v-4.3145l8.275-2.1675-8.275-2.1675V5.5181c0-.4145.17-.7325.5097-.9542.3399-.2215.7004-.2536 1.0816-.0963l15.3402 6.482c.4685.2072.7027.5574.7027 1.0505 0 .4932-.2342.8434-.7027 1.0505l-15.3403 6.482z\"></path></svg><span>Easily apply</span></span><span class=\"css-qclps5 eu4oa1w0\"><div class=\"heading6 tapItem-gutter css-10i2iq4 eu4oa1w0\"></div></span></div></div></td></tr></tbody></table><div class=\"css-1hysxc6 eu4oa1w0\" data-testid=\"location-rollup\"><a aria-label=\"View similar jobs with this employer\" class=\"css-1dpuwp7 e71d0lh0\" href=\"/addlLoc/redirect?tk=1j6k9a8oag2vh86d&amp;jk=c1fbba7eab24f4e7&amp;dest=%2Fjobs%3Fq%3Dmachine%2Blearning%26l%3Dpittsburgh%2Bpa%26radius%3D25%26grpKey%3DoAEB8gcFdG5mZWy4D8-trxiqECYKCW5vcm10aXRsZRoZbWFjaGluZSBsZWFybmluZyBlbmdpbmVlcg%253D%253D\">View similar jobs with this employer<svg aria-hidden=\"true\" class=\"mosaic-provider-jobcards-11dmwc2 eac13zx0\" fill=\"currentColor\" focusable=\"false\" role=\"img\" viewbox=\"0 0 24 24\" xmlns=\"http://www.w3.org/2000/svg\"><path d=\"M17.864 13.1383H2.9402c-.3191 0-.5886-.1097-.8082-.3292-.2195-.2197-.3293-.4891-.3293-.8083 0-.3191.1098-.5886.3293-.8082.2196-.2195.489-.3293.8082-.3293h14.918l-3.66-3.6727c-.2151-.2114-.3259-.4744-.3322-.7893-.0063-.3148.1044-.5841.3322-.808.2114-.2113.4776-.316.7988-.314.3212.002.5874.1086.7987.3198l5.606 5.606c.1119.112.1926.2363.2423.373.0497.1365.0745.2794.0745.4287 0 .1494-.0248.2913-.0745.4258-.0497.1346-.1304.258-.2423.37l-5.606 5.6117c-.2113.2114-.4734.318-.7862.32-.3128.002-.5833-.1046-.8113-.32-.2278-.2278-.3417-.4971-.3417-.808 0-.3108.1139-.5802.3417-.8082l3.6658-3.6598z\"></path></svg></a></div><div class=\"ctaContainer ctaContainer_withCompanyInfo\"><button aria-label=\"Save job Toggle\" aria-pressed=\"false\" class=\"bookmark bookmark-tap-target mosaic-provider-jobcards-ykqx5t e8ju0x50\"><svg aria-hidden=\"true\" class=\"mosaic-provider-jobcards-s0xhw4 eac13zx0\" fill=\"currentColor\" focusable=\"false\" role=\"presentation\" viewbox=\"0 0 24 24\" xmlns=\"http://www.w3.org/2000/svg\"><path d=\"M11.9999 18.2214l-4.0268 1.7222c-.7583.3192-1.4773.2559-2.157-.19-.6796-.4456-1.0195-1.0763-1.0195-1.892V5.0719c0-.6297.2218-1.1663.6653-1.6098s.98-.6652 1.6097-.6652h9.8565c.6297 0 1.1663.2217 1.6098.6652s.6652.9801.6652 1.6098v12.7897c0 .8157-.3398 1.4464-1.0195 1.892-.6796.4459-1.3986.5092-2.157.19l-4.0267-1.7222zm0-2.493l4.9282 2.1142V5.0719H7.0716v12.7707L12 15.7284z\"></path></svg></button></div><div aria-live=\"polite\"></div></div>,\n",
       " <div class=\"job_seen_beacon\"><table cellpadding=\"0\" cellspacing=\"0\" class=\"mainContentTable css-131ju4w eu4oa1w0\" role=\"presentation\"><tbody><tr><td class=\"resultContent css-1o6lhys eu4oa1w0\"><div class=\"css-pt3vth e37uo190\"><h2 class=\"jobTitle mosaic-provider-jobcards-1o1rnx9 eu4oa1w0\" tabindex=\"-1\"><a aria-label=\"full details of Machine Learning Engineer\" class=\"jcs-JobTitle css-1baag51 eu4oa1w0\" data-hide-spinner=\"true\" data-hiring-event=\"false\" data-jk=\"33f09109d5e5c3a6\" data-mobtk=\"1j6k9a8oag2vh86d\" href=\"/rc/clk?jk=33f09109d5e5c3a6&amp;bb=6BvJ0kJ1ahkVhDQE46-36myPIhl3XCXZGYT_SmJm7sUfLhhd7E2lJHqHjWK5k9E8oT33CREVDrlqFfGMBfCnjTJcbksX4_1IjTaFuYY2QxeFReifFMX5ZC32btpgYeXY5tJlT-D7I-SASGyBwkn1aQ%3D%3D&amp;xkcb=SoBu67M3sUamxigREr0BbzkdCdPP&amp;fccid=fb97ab53c1134fb9&amp;vjs=3\" id=\"job_33f09109d5e5c3a6\" role=\"button\"><span id=\"jobTitle-33f09109d5e5c3a6\" title=\"Machine Learning Engineer\">Machine Learning Engineer</span></a></h2></div><div class=\"company_location css-10q8be3 e37uo190\"><div data-testid=\"timing-attribute\"><div class=\"css-1afmp4o e37uo190\"><span class=\"css-1ssrdda eu4oa1w0\" data-testid=\"company-name\">Adidev Technologies Inc</span></div><div class=\"css-1f06pz4 eu4oa1w0\" data-testid=\"text-location\">Pittsburgh, PA 15219<!-- --> <div class=\"css-14rqksf eu4oa1w0\">(<!-- -->Middle Hill area<!-- -->)</div></div></div></div><div class=\"css-1q6otk eu4oa1w0\"><div class=\"mosaic-provider-jobcards-wth5js e1xnxm2i0\"><div class=\"mosaic-provider-jobcards-1oa1vqn ecydgvn0\"><div class=\"mosaic-provider-jobcards-1f1q1js ecydgvn1\">Pay information not provided</div></div></div></div><div class=\"jobMetaDataGroup css-1bx5raa eu4oa1w0\"><ul class=\"heading6 tapItem-gutter metadataContainer mosaic-provider-jobcards-da3x4j eu4oa1w0\"><li class=\"mosaic-provider-jobcards-wth5js e1xnxm2i0\"><div class=\"mosaic-provider-jobcards-1oa1vqn ecydgvn0\"><div class=\"mosaic-provider-jobcards-1f1q1js ecydgvn1\">Relocation assistance</div></div></li></ul><div class=\"heading6 error-text tapItem-gutter\"></div></div><div class=\"css-r19t1s eu4oa1w0\" role=\"presentation\"><div class=\"css-1hurmnl eu4oa1w0\"><span class=\"iaIcon css-1f0h0ey e1wnkr790\"><svg aria-hidden=\"true\" class=\"mosaic-provider-jobcards-ptur8y eac13zx0\" fill=\"currentColor\" focusable=\"false\" role=\"img\" viewbox=\"0 0 24 24\" xmlns=\"http://www.w3.org/2000/svg\"><path d=\"M4.406 19.5326c-.3812.1574-.7417.1253-1.0815-.0962-.3399-.2217-.5098-.5398-.5098-.9543v-4.3145l8.275-2.1675-8.275-2.1675V5.5181c0-.4145.17-.7325.5097-.9542.3399-.2215.7004-.2536 1.0816-.0963l15.3402 6.482c.4685.2072.7027.5574.7027 1.0505 0 .4932-.2342.8434-.7027 1.0505l-15.3403 6.482z\"></path></svg><span>Easily apply</span></span><span class=\"css-qclps5 eu4oa1w0\"><div class=\"heading6 tapItem-gutter css-10i2iq4 eu4oa1w0\"></div></span></div></div></td></tr></tbody></table><div class=\"ctaContainer ctaContainer_withCompanyInfo\"><button aria-label=\"Save job Toggle\" aria-pressed=\"false\" class=\"bookmark bookmark-tap-target mosaic-provider-jobcards-ykqx5t e8ju0x50\"><svg aria-hidden=\"true\" class=\"mosaic-provider-jobcards-s0xhw4 eac13zx0\" fill=\"currentColor\" focusable=\"false\" role=\"presentation\" viewbox=\"0 0 24 24\" xmlns=\"http://www.w3.org/2000/svg\"><path d=\"M11.9999 18.2214l-4.0268 1.7222c-.7583.3192-1.4773.2559-2.157-.19-.6796-.4456-1.0195-1.0763-1.0195-1.892V5.0719c0-.6297.2218-1.1663.6653-1.6098s.98-.6652 1.6097-.6652h9.8565c.6297 0 1.1663.2217 1.6098.6652s.6652.9801.6652 1.6098v12.7897c0 .8157-.3398 1.4464-1.0195 1.892-.6796.4459-1.3986.5092-2.157.19l-4.0267-1.7222zm0-2.493l4.9282 2.1142V5.0719H7.0716v12.7707L12 15.7284z\"></path></svg></button></div><div aria-live=\"polite\"></div></div>,\n",
       " <div class=\"job_seen_beacon\"><table cellpadding=\"0\" cellspacing=\"0\" class=\"mainContentTable css-131ju4w eu4oa1w0\" role=\"presentation\"><tbody><tr><td class=\"resultContent css-1o6lhys eu4oa1w0\"><div class=\"css-pt3vth e37uo190\"><h2 class=\"jobTitle mosaic-provider-jobcards-1o1rnx9 eu4oa1w0\" tabindex=\"-1\"><a aria-label=\"full details of Senior Research Scientist\" class=\"jcs-JobTitle css-1baag51 eu4oa1w0\" data-hide-spinner=\"true\" data-hiring-event=\"false\" data-jk=\"830c329d2a0e67a9\" data-mobtk=\"1j6k9a8oag2vh86d\" href=\"/rc/clk?jk=830c329d2a0e67a9&amp;bb=6BvJ0kJ1ahkVhDQE46-36j2OcAvyrc-AEXFaPuRAY8ViKiUGgZvoXFNGOFZDxriQGoMnNb9nAPv1eGV6T8xocl8RgHPqipk5NvnwjjXsDKZJaGHZNB17lrE7YwQZxI5T08Qm0MzqDD0VFThNGPQffA%3D%3D&amp;xkcb=SoDa67M3sUamxigREr0AbzkdCdPP&amp;fccid=dd616958bd9ddc12&amp;vjs=3\" id=\"job_830c329d2a0e67a9\" role=\"button\"><span id=\"jobTitle-830c329d2a0e67a9\" title=\"Senior Research Scientist\">Senior Research Scientist</span></a></h2></div><div class=\"company_location css-10q8be3 e37uo190\"><div data-testid=\"timing-attribute\"><div class=\"css-1afmp4o e37uo190\"><span class=\"css-1ssrdda eu4oa1w0\" data-testid=\"company-name\">Data Science for Social Good, Carnegie Mellon...</span></div><div class=\"css-1f06pz4 eu4oa1w0\" data-testid=\"text-location\">Pittsburgh, PA</div></div></div><div class=\"css-1q6otk eu4oa1w0\"><div class=\"mosaic-provider-jobcards-wth5js e1xnxm2i0\"><div class=\"mosaic-provider-jobcards-1oa1vqn ecydgvn0\"><div class=\"mosaic-provider-jobcards-1f1q1js ecydgvn1\">Pay information not provided</div></div></div></div><div class=\"jobMetaDataGroup css-1bx5raa eu4oa1w0\"><ul class=\"heading6 tapItem-gutter metadataContainer mosaic-provider-jobcards-da3x4j eu4oa1w0\"><li class=\"mosaic-provider-jobcards-wth5js e1xnxm2i0\"><div class=\"mosaic-provider-jobcards-1oa1vqn ecydgvn0\"><div class=\"mosaic-provider-jobcards-1f1q1js ecydgvn1\">Tuition reimbursement</div></div></li><li class=\"mosaic-provider-jobcards-wth5js e1xnxm2i0\"><div class=\"mosaic-provider-jobcards-1oa1vqn ecydgvn0\"><div class=\"mosaic-provider-jobcards-1f1q1js ecydgvn1\">Parental leave</div></div></li><li class=\"mosaic-provider-jobcards-wth5js e1xnxm2i0\"><div class=\"mosaic-provider-jobcards-1oa1vqn ecydgvn0\"><div class=\"mosaic-provider-jobcards-1f1q1js ecydgvn1\">Health insurance</div></div></li><li class=\"mosaic-provider-jobcards-wth5js e1xnxm2i0\"><div class=\"mosaic-provider-jobcards-1oa1vqn ecydgvn0\"><div class=\"mosaic-provider-jobcards-1f1q1js ecydgvn1\">Vision insurance</div></div></li><li class=\"mosaic-provider-jobcards-wth5js e1xnxm2i0\"><div class=\"mosaic-provider-jobcards-1oa1vqn ecydgvn0\"><div class=\"mosaic-provider-jobcards-1f1q1js ecydgvn1\">Dental insurance</div></div></li></ul><div class=\"heading6 error-text tapItem-gutter\"></div></div></td></tr></tbody></table><div class=\"ctaContainer ctaContainer_withCompanyInfo\"><button aria-label=\"Save job Toggle\" aria-pressed=\"false\" class=\"bookmark bookmark-tap-target mosaic-provider-jobcards-ykqx5t e8ju0x50\"><svg aria-hidden=\"true\" class=\"mosaic-provider-jobcards-s0xhw4 eac13zx0\" fill=\"currentColor\" focusable=\"false\" role=\"presentation\" viewbox=\"0 0 24 24\" xmlns=\"http://www.w3.org/2000/svg\"><path d=\"M11.9999 18.2214l-4.0268 1.7222c-.7583.3192-1.4773.2559-2.157-.19-.6796-.4456-1.0195-1.0763-1.0195-1.892V5.0719c0-.6297.2218-1.1663.6653-1.6098s.98-.6652 1.6097-.6652h9.8565c.6297 0 1.1663.2217 1.6098.6652s.6652.9801.6652 1.6098v12.7897c0 .8157-.3398 1.4464-1.0195 1.892-.6796.4459-1.3986.5092-2.157.19l-4.0267-1.7222zm0-2.493l4.9282 2.1142V5.0719H7.0716v12.7707L12 15.7284z\"></path></svg></button></div><div aria-live=\"polite\"></div></div>,\n",
       " <div class=\"job_seen_beacon\"><table cellpadding=\"0\" cellspacing=\"0\" class=\"mainContentTable css-131ju4w eu4oa1w0\" role=\"presentation\"><tbody><tr><td class=\"resultContent css-1o6lhys eu4oa1w0\"><div class=\"css-pt3vth e37uo190\"><h2 class=\"jobTitle mosaic-provider-jobcards-1o1rnx9 eu4oa1w0\" tabindex=\"-1\"><a aria-label=\"full details of Senior Data Scientist\" class=\"jcs-JobTitle css-1baag51 eu4oa1w0\" data-hide-spinner=\"true\" data-hiring-event=\"false\" data-jk=\"f69ca53516c9f594\" data-mobtk=\"1j6k9a8oag2vh86d\" href=\"/rc/clk?jk=f69ca53516c9f594&amp;bb=6BvJ0kJ1ahkVhDQE46-36jmpsLoOqmvNiz_p2DmQw85hYZwj43I8Uf0sIs76SpO3t4cNukR7z-Pi0HjufuxBn0m3xxMoia4aQGzYkDTFgxS53KoFkP7xdBzR2U7Ja4slHNN5UXTiXvHzIezrsJJlKA%3D%3D&amp;xkcb=SoBU67M3sUamxigREr0HbzkdCdPP&amp;fccid=dd616958bd9ddc12&amp;vjs=3\" id=\"job_f69ca53516c9f594\" role=\"button\"><span id=\"jobTitle-f69ca53516c9f594\" title=\"Senior Data Scientist\">Senior Data Scientist</span></a></h2></div><div class=\"company_location css-10q8be3 e37uo190\"><div data-testid=\"timing-attribute\"><div class=\"css-1afmp4o e37uo190\"><span class=\"css-1ssrdda eu4oa1w0\" data-testid=\"company-name\">Data Science for Social Good, Carnegie Mellon...</span></div><div class=\"css-1f06pz4 eu4oa1w0\" data-testid=\"text-location\">Pittsburgh, PA</div></div></div><div class=\"css-1q6otk eu4oa1w0\"><div class=\"mosaic-provider-jobcards-wth5js e1xnxm2i0\"><div class=\"mosaic-provider-jobcards-1oa1vqn ecydgvn0\"><div class=\"mosaic-provider-jobcards-1f1q1js ecydgvn1\">Pay information not provided</div></div></div></div><div class=\"jobMetaDataGroup css-1bx5raa eu4oa1w0\"><ul class=\"heading6 tapItem-gutter metadataContainer mosaic-provider-jobcards-da3x4j eu4oa1w0\"><li class=\"mosaic-provider-jobcards-wth5js e1xnxm2i0\"><div class=\"mosaic-provider-jobcards-1oa1vqn ecydgvn0\"><div class=\"mosaic-provider-jobcards-1f1q1js ecydgvn1\">Tuition reimbursement</div></div></li><li class=\"mosaic-provider-jobcards-wth5js e1xnxm2i0\"><div class=\"mosaic-provider-jobcards-1oa1vqn ecydgvn0\"><div class=\"mosaic-provider-jobcards-1f1q1js ecydgvn1\">Parental leave</div></div></li><li class=\"mosaic-provider-jobcards-wth5js e1xnxm2i0\"><div class=\"mosaic-provider-jobcards-1oa1vqn ecydgvn0\"><div class=\"mosaic-provider-jobcards-1f1q1js ecydgvn1\">Health insurance</div></div></li><li class=\"mosaic-provider-jobcards-wth5js e1xnxm2i0\"><div class=\"mosaic-provider-jobcards-1oa1vqn ecydgvn0\"><div class=\"mosaic-provider-jobcards-1f1q1js ecydgvn1\">Vision insurance</div></div></li><li class=\"mosaic-provider-jobcards-wth5js e1xnxm2i0\"><div class=\"mosaic-provider-jobcards-1oa1vqn ecydgvn0\"><div class=\"mosaic-provider-jobcards-1f1q1js ecydgvn1\">Dental insurance</div></div></li></ul><div class=\"heading6 error-text tapItem-gutter\"></div></div></td></tr></tbody></table><div class=\"ctaContainer ctaContainer_withCompanyInfo\"><button aria-label=\"Save job Toggle\" aria-pressed=\"false\" class=\"bookmark bookmark-tap-target mosaic-provider-jobcards-ykqx5t e8ju0x50\"><svg aria-hidden=\"true\" class=\"mosaic-provider-jobcards-s0xhw4 eac13zx0\" fill=\"currentColor\" focusable=\"false\" role=\"presentation\" viewbox=\"0 0 24 24\" xmlns=\"http://www.w3.org/2000/svg\"><path d=\"M11.9999 18.2214l-4.0268 1.7222c-.7583.3192-1.4773.2559-2.157-.19-.6796-.4456-1.0195-1.0763-1.0195-1.892V5.0719c0-.6297.2218-1.1663.6653-1.6098s.98-.6652 1.6097-.6652h9.8565c.6297 0 1.1663.2217 1.6098.6652s.6652.9801.6652 1.6098v12.7897c0 .8157-.3398 1.4464-1.0195 1.892-.6796.4459-1.3986.5092-2.157.19l-4.0267-1.7222zm0-2.493l4.9282 2.1142V5.0719H7.0716v12.7707L12 15.7284z\"></path></svg></button></div><div aria-live=\"polite\"></div></div>,\n",
       " <div class=\"job_seen_beacon\"><table cellpadding=\"0\" cellspacing=\"0\" class=\"mainContentTable css-131ju4w eu4oa1w0\" role=\"presentation\"><tbody><tr><td class=\"resultContent css-1o6lhys eu4oa1w0\"><div class=\"css-pt3vth e37uo190\"><h2 class=\"jobTitle mosaic-provider-jobcards-1o1rnx9 eu4oa1w0\" tabindex=\"-1\"><a aria-label=\"full details of Post-Doc Researcher\" class=\"jcs-JobTitle css-1baag51 eu4oa1w0\" data-hide-spinner=\"true\" data-hiring-event=\"false\" data-jk=\"f8f59339d9e75fee\" data-mobtk=\"1j6k9a8oag2vh86d\" href=\"/rc/clk?jk=f8f59339d9e75fee&amp;bb=6BvJ0kJ1ahkVhDQE46-36uv-X53R0KH5Q6YPbnXcTExWq5oPG4ljv1EUeUqFp44yKynPZywRYlH8qxadKvLVofBo0QLoQUV04nio_QntDXgNP7hTczC9-_-cEEiyyS7yv5tIdPMAyGGaYSUNL3geLQ%3D%3D&amp;xkcb=SoDg67M3sUamxigREr0GbzkdCdPP&amp;fccid=dd616958bd9ddc12&amp;vjs=3\" id=\"job_f8f59339d9e75fee\" role=\"button\"><span id=\"jobTitle-f8f59339d9e75fee\" title=\"Post-Doc Researcher\">Post-Doc Researcher</span></a></h2></div><div class=\"company_location css-10q8be3 e37uo190\"><div data-testid=\"timing-attribute\"><div class=\"css-1afmp4o e37uo190\"><span class=\"css-1ssrdda eu4oa1w0\" data-testid=\"company-name\">Data Science for Social Good, Carnegie Mellon...</span></div><div class=\"css-1f06pz4 eu4oa1w0\" data-testid=\"text-location\">Pittsburgh, PA</div></div></div><div class=\"css-1q6otk eu4oa1w0\"><div class=\"mosaic-provider-jobcards-wth5js e1xnxm2i0\"><div class=\"mosaic-provider-jobcards-1oa1vqn ecydgvn0\"><div class=\"mosaic-provider-jobcards-1f1q1js ecydgvn1\">Pay information not provided</div></div></div></div><div class=\"jobMetaDataGroup css-1bx5raa eu4oa1w0\"><ul class=\"heading6 tapItem-gutter metadataContainer mosaic-provider-jobcards-da3x4j eu4oa1w0\"><li class=\"mosaic-provider-jobcards-wth5js e1xnxm2i0\"><div class=\"mosaic-provider-jobcards-1oa1vqn ecydgvn0\"><div class=\"mosaic-provider-jobcards-1f1q1js ecydgvn1\">Tuition reimbursement</div></div></li><li class=\"mosaic-provider-jobcards-wth5js e1xnxm2i0\"><div class=\"mosaic-provider-jobcards-1oa1vqn ecydgvn0\"><div class=\"mosaic-provider-jobcards-1f1q1js ecydgvn1\">Parental leave</div></div></li><li class=\"mosaic-provider-jobcards-wth5js e1xnxm2i0\"><div class=\"mosaic-provider-jobcards-1oa1vqn ecydgvn0\"><div class=\"mosaic-provider-jobcards-1f1q1js ecydgvn1\">Health insurance</div></div></li><li class=\"mosaic-provider-jobcards-wth5js e1xnxm2i0\"><div class=\"mosaic-provider-jobcards-1oa1vqn ecydgvn0\"><div class=\"mosaic-provider-jobcards-1f1q1js ecydgvn1\">Vision insurance</div></div></li><li class=\"mosaic-provider-jobcards-wth5js e1xnxm2i0\"><div class=\"mosaic-provider-jobcards-1oa1vqn ecydgvn0\"><div class=\"mosaic-provider-jobcards-1f1q1js ecydgvn1\">Dental insurance</div></div></li></ul><div class=\"heading6 error-text tapItem-gutter\"></div></div></td></tr></tbody></table><div class=\"ctaContainer ctaContainer_withCompanyInfo\"><button aria-label=\"Save job Toggle\" aria-pressed=\"false\" class=\"bookmark bookmark-tap-target mosaic-provider-jobcards-ykqx5t e8ju0x50\"><svg aria-hidden=\"true\" class=\"mosaic-provider-jobcards-s0xhw4 eac13zx0\" fill=\"currentColor\" focusable=\"false\" role=\"presentation\" viewbox=\"0 0 24 24\" xmlns=\"http://www.w3.org/2000/svg\"><path d=\"M11.9999 18.2214l-4.0268 1.7222c-.7583.3192-1.4773.2559-2.157-.19-.6796-.4456-1.0195-1.0763-1.0195-1.892V5.0719c0-.6297.2218-1.1663.6653-1.6098s.98-.6652 1.6097-.6652h9.8565c.6297 0 1.1663.2217 1.6098.6652s.6652.9801.6652 1.6098v12.7897c0 .8157-.3398 1.4464-1.0195 1.892-.6796.4459-1.3986.5092-2.157.19l-4.0267-1.7222zm0-2.493l4.9282 2.1142V5.0719H7.0716v12.7707L12 15.7284z\"></path></svg></button></div><div aria-live=\"polite\"></div></div>,\n",
       " <div class=\"job_seen_beacon\"><table cellpadding=\"0\" cellspacing=\"0\" class=\"mainContentTable css-131ju4w eu4oa1w0\" role=\"presentation\"><tbody><tr><td class=\"resultContent css-1o6lhys eu4oa1w0\"><div class=\"css-pt3vth e37uo190\"><h2 class=\"jobTitle mosaic-provider-jobcards-1o1rnx9 eu4oa1w0\" tabindex=\"-1\"><a aria-label=\"full details of Artificial Intelligence(AI) Agent Developer\" class=\"jcs-JobTitle css-1baag51 eu4oa1w0\" data-hide-spinner=\"true\" data-hiring-event=\"false\" data-jk=\"7978d0d96d118382\" data-mobtk=\"1j6k9a8oag2vh86d\" href=\"/rc/clk?jk=7978d0d96d118382&amp;bb=6BvJ0kJ1ahkVhDQE46-36jgCtc9tZ3lWeKaCU2UfQisuEilKxZhqvvrIFwssRvRt5t9Y73nGP7qglJcYjZJWkTAK7LKMO5R5su9SYUnPHVhdXTe21kvsH8kgF78rlOMIs_dsRIxRcqyQ85ZasW312w%3D%3D&amp;xkcb=SoB967M3sUamxigREr0FbzkdCdPP&amp;fccid=c71b680e92ae5dd6&amp;vjs=3\" id=\"job_7978d0d96d118382\" role=\"button\"><span id=\"jobTitle-7978d0d96d118382\" title=\"Artificial Intelligence(AI) Agent Developer\">Artificial Intelligence(AI) Agent Developer</span></a></h2></div><div class=\"company_location css-10q8be3 e37uo190\"><div data-testid=\"timing-attribute\"><div class=\"css-1afmp4o e37uo190\"><span class=\"css-1ssrdda eu4oa1w0\" data-testid=\"company-name\">Visvero, Inc.</span></div><div class=\"css-1f06pz4 eu4oa1w0\" data-testid=\"text-location\">Pittsburgh, PA 15205</div></div></div><div class=\"css-1q6otk eu4oa1w0\"><div class=\"mosaic-provider-jobcards-wth5js e1xnxm2i0\"><div class=\"mosaic-provider-jobcards-1oa1vqn ecydgvn0\"><div class=\"mosaic-provider-jobcards-1f1q1js ecydgvn1\">Pay information not provided</div></div></div></div><div class=\"jobMetaDataGroup css-1bx5raa eu4oa1w0\"><ul class=\"heading6 tapItem-gutter metadataContainer mosaic-provider-jobcards-da3x4j eu4oa1w0\"></ul><div class=\"heading6 error-text tapItem-gutter\"></div></div></td></tr></tbody></table><div class=\"ctaContainer ctaContainer_withCompanyInfo\"><button aria-label=\"Save job Toggle\" aria-pressed=\"false\" class=\"bookmark bookmark-tap-target mosaic-provider-jobcards-ykqx5t e8ju0x50\"><svg aria-hidden=\"true\" class=\"mosaic-provider-jobcards-s0xhw4 eac13zx0\" fill=\"currentColor\" focusable=\"false\" role=\"presentation\" viewbox=\"0 0 24 24\" xmlns=\"http://www.w3.org/2000/svg\"><path d=\"M11.9999 18.2214l-4.0268 1.7222c-.7583.3192-1.4773.2559-2.157-.19-.6796-.4456-1.0195-1.0763-1.0195-1.892V5.0719c0-.6297.2218-1.1663.6653-1.6098s.98-.6652 1.6097-.6652h9.8565c.6297 0 1.1663.2217 1.6098.6652s.6652.9801.6652 1.6098v12.7897c0 .8157-.3398 1.4464-1.0195 1.892-.6796.4459-1.3986.5092-2.157.19l-4.0267-1.7222zm0-2.493l4.9282 2.1142V5.0719H7.0716v12.7707L12 15.7284z\"></path></svg></button></div><div aria-live=\"polite\"></div></div>]"
      ]
     },
     "execution_count": 8,
     "metadata": {},
     "output_type": "execute_result"
    }
   ],
   "source": [
    "posts = soup.find_all(\"div\", \"job_seen_beacon\")\n",
    "posts"
   ]
  },
  {
   "cell_type": "markdown",
   "id": "8cb66510",
   "metadata": {},
   "source": [
    "# Generic Info"
   ]
  },
  {
   "cell_type": "code",
   "execution_count": 9,
   "id": "26e8b7a1",
   "metadata": {},
   "outputs": [
    {
     "name": "stdout",
     "output_type": "stream",
     "text": [
      "<div class=\"job_seen_beacon\"><table cellpadding=\"0\" cellspacing=\"0\" class=\"mainContentTable css-131ju4w eu4oa1w0\" role=\"presentation\"><tbody><tr><td class=\"resultContent css-1o6lhys eu4oa1w0\"><div class=\"css-pt3vth e37uo190\"><style data-emotion=\"mosaic-provider-jobcards 1o1rnx9\">.mosaic-provider-jobcards-1o1rnx9{box-sizing:border-box;margin-block-start:0;margin-block-end:0;-webkit-margin-start:0;margin-inline-start:0;-webkit-margin-end:0;margin-inline-end:0;min-inline-size:0;overflow:hidden;text-overflow:ellipsis;display:-webkit-box;-webkit-line-clamp:2;-webkit-box-orient:vertical;font-size:1.125rem;line-height:1.5rem;margin:0;margin-bottom:0.5rem;color:var(--ifl-colors-neutral-1000);letter-spacing:-0.06px;-webkit-flex-direction:row-reverse;-ms-flex-direction:row-reverse;flex-direction:row-reverse;font-weight:700;}</style><h2 class=\"jobTitle mosaic-provider-jobcards-1o1rnx9 eu4oa1w0\" tabindex=\"-1\"><a aria-label=\"full details of Data Scientist, New Graduate\" class=\"jcs-JobTitle css-1baag51 eu4oa1w0\" data-hide-spinner=\"true\" data-hiring-event=\"false\" data-jk=\"252c1acf3cad34a8\" data-mobtk=\"1j6k9a8oag2vh86d\" href=\"/rc/clk?jk=252c1acf3cad34a8&amp;bb=6BvJ0kJ1ahkVhDQE46-36taF_9LCO_6b8yMPOgM0Z-0Dw-m7IuboOyHnCZoqx8wSvncYpkmFV7AGtv4l5l9aE1rP9aJvO10YcR9cswLKlcHxBmUSCrKoVBbJn7sO-LFaREZ4QC0mYxaUvxJEMev2ag%3D%3D&amp;xkcb=SoAg67M3sUamxigREr0LbzkdCdPP&amp;fccid=1d7146bd38091a7a&amp;vjs=3\" id=\"job_252c1acf3cad34a8\" role=\"button\"><span id=\"jobTitle-252c1acf3cad34a8\" title=\"Data Scientist, New Graduate\">Data Scientist, New Graduate</span></a></h2><div class=\"css-j160pq e37uo190\"><style data-emotion=\"mosaic-provider-jobcards 1xnau0q\">.mosaic-provider-jobcards-1xnau0q{-webkit-align-content:center;-ms-flex-line-pack:center;align-content:center;-webkit-align-items:center;-webkit-box-align:center;-ms-flex-align:center;align-items:center;border:1px solid;border-color:var(--ifl-colors-background-status-info-weaker);border-radius:0.5rem;box-sizing:border-box;display:-webkit-inline-box;display:-webkit-inline-flex;display:-ms-inline-flexbox;display:inline-flex;font-family:'Indeed Sans','Noto Sans','Helvetica Neue',Helvetica,Arial,'Liberation Sans',Roboto,Noto,sans-serif;font-size:0.75rem;font-weight:700;line-height:1.5;position:relative;-webkit-padding-start:0.5rem;padding-inline-start:0.5rem;-webkit-padding-end:0.5rem;padding-inline-end:0.5rem;padding-block-start:2px;padding-block-end:2px;background-color:var(--ifl-colors-background-status-info-weaker);color:var(--ifl-colors-foreground-status-info);border-radius:0.5rem;}.mosaic-provider-jobcards-1xnau0q svg{display:block;block-size:18px;inline-size:18px;}</style><div class=\"mosaic-provider-jobcards-1xnau0q e1xnxm2i0\"><style data-emotion=\"mosaic-provider-jobcards 1oa1vqn\">.mosaic-provider-jobcards-1oa1vqn{display:-webkit-box;display:-webkit-flex;display:-ms-flexbox;display:flex;gap:0.5rem;-webkit-align-items:center;-webkit-box-align:center;-ms-flex-align:center;align-items:center;-webkit-box-flex-wrap:wrap;-webkit-flex-wrap:wrap;-ms-flex-wrap:wrap;flex-wrap:wrap;-webkit-box-pack:start;-ms-flex-pack:start;-webkit-justify-content:flex-start;justify-content:flex-start;}.mosaic-provider-jobcards-1oa1vqn>.ecydgvn1{max-inline-size:100%;}</style><div class=\"mosaic-provider-jobcards-1oa1vqn ecydgvn0\"><style data-emotion=\"mosaic-provider-jobcards 1f1q1js\">.mosaic-provider-jobcards-1f1q1js{-webkit-flex:0 0 auto;-ms-flex:0 0 auto;flex:0 0 auto;min-inline-size:0;}</style><div class=\"mosaic-provider-jobcards-1f1q1js ecydgvn1\">Often responds within 1 day</div></div></div></div></div><div class=\"company_location css-10q8be3 e37uo190\"><div data-testid=\"timing-attribute\" elementtiming=\"significant-render\"><div class=\"css-1afmp4o e37uo190\"><span class=\"css-1ssrdda eu4oa1w0\" data-testid=\"company-name\">Duolingo</span></div><div class=\"css-1f06pz4 eu4oa1w0\" data-testid=\"text-location\">Pittsburgh, PA</div></div></div><div class=\"css-1b7u11v eu4oa1w0\"><div class=\"css-1a6kja7 e37uo190\"><style data-emotion=\"mosaic-provider-jobcards 5vqdjd\">.mosaic-provider-jobcards-5vqdjd{margin-block-start:0;margin-block-end:0.5rem;-webkit-margin-start:0;margin-inline-start:0;-webkit-margin-end:0;margin-inline-end:0;color:var(--ifl-colors-foreground-strong);font-weight:700;font-family:'Indeed Sans','Noto Sans','Helvetica Neue',Helvetica,Arial,'Liberation Sans',Roboto,Noto,sans-serif;font-size:1.25rem;line-height:1.5;margin-block-end:0;font-size:1.125rem;font-weight:700;}</style><h2 class=\"mosaic-provider-jobcards-5vqdjd e1tiznh50\">$135,000 - $200,000</h2><style data-emotion=\"mosaic-provider-jobcards 1mg9wsc\">.mosaic-provider-jobcards-1mg9wsc{font-family:'Indeed Sans','Noto Sans','Helvetica Neue',Helvetica,Arial,'Liberation Sans',Roboto,Noto,sans-serif;font-weight:inherit;color:var(--ifl-colors-foreground);font-size:0.875rem;line-height:1.5;margin-left:0.25rem;}</style><span class=\"mosaic-provider-jobcards-1mg9wsc e1wnkr790\">a year</span></div></div><div class=\"jobMetaDataGroup css-1bx5raa eu4oa1w0\"><style data-emotion=\"mosaic-provider-jobcards da3x4j\">.mosaic-provider-jobcards-da3x4j{box-sizing:border-box;margin-block-start:0;margin-block-end:0;-webkit-margin-start:0;margin-inline-start:0;-webkit-margin-end:0;margin-inline-end:0;min-inline-size:0;list-style-type:none;padding-left:0;margin-bottom:0!important;max-height:3.5rem;overflow:hidden;gap:0.25rem;-webkit-text-size-adjust:100%;-moz-text-size-adjust:100%;-ms-text-size-adjust:100%;text-size-adjust:100%;}.company_location+.mosaic-provider-jobcards-da3x4j{padding-top:0!important;}.result .resultContent .mosaic-provider-jobcards-da3x4j{padding-top:0.5rem;margin-bottom:0.75rem;}.result .resultContent .mosaic-provider-jobcards-da3x4j:empty{display:none;}.result.desktop .resultContent .jobsearch-JobCard-tagContainer+.mosaic-provider-jobcards-da3x4j{padding-top:0;}.jobcard-compact.resultContent .mosaic-provider-jobcards-da3x4j,.mainContentTable .resultContent .mosaic-provider-jobcards-da3x4j{display:-webkit-box;display:-webkit-flex;display:-ms-flexbox;display:flex;-webkit-box-flex-flow:row wrap;-webkit-flex-flow:row wrap;-ms-flex-flow:row wrap;flex-flow:row wrap;margin-bottom:0.75rem;}.jobcard-compact.resultContent .mosaic-provider-jobcards-da3x4j:empty,.mainContentTable .resultContent .mosaic-provider-jobcards-da3x4j:empty{display:none!important;}.jobcard-compact.resultContent .mosaic-provider-jobcards-da3x4j.reduce-mb,.mainContentTable .resultContent .mosaic-provider-jobcards-da3x4j.reduce-mb{margin-bottom:0;}.jobcard-compact.resultContent .mosaic-provider-jobcards-da3x4j.reduce-pt,.mainContentTable .resultContent .mosaic-provider-jobcards-da3x4j.reduce-pt{padding-top:0;}.jobcard-compact.resultContent .mosaic-provider-jobcards-da3x4j >.jobCardReqMore,.mainContentTable .resultContent .mosaic-provider-jobcards-da3x4j >.jobCardReqMore{font-size:0.875rem;color:#595959;display:-webkit-inline-box;display:-webkit-inline-flex;display:-ms-inline-flexbox;display:inline-flex;-webkit-align-items:center;-webkit-box-align:center;-ms-flex-align:center;align-items:center;}.mainContentTable .resultContent .jobMetaDataGroup .mosaic-provider-jobcards-da3x4j{padding-top:0;}</style><ul class=\"heading6 tapItem-gutter metadataContainer mosaic-provider-jobcards-da3x4j eu4oa1w0\"><style data-emotion=\"mosaic-provider-jobcards wth5js\">.mosaic-provider-jobcards-wth5js{-webkit-align-content:center;-ms-flex-line-pack:center;align-content:center;-webkit-align-items:center;-webkit-box-align:center;-ms-flex-align:center;align-items:center;border:1px solid;border-color:var(--ifl-colors-background-status-generic-weaker);border-radius:0.5rem;box-sizing:border-box;display:-webkit-inline-box;display:-webkit-inline-flex;display:-ms-inline-flexbox;display:inline-flex;font-family:'Indeed Sans','Noto Sans','Helvetica Neue',Helvetica,Arial,'Liberation Sans',Roboto,Noto,sans-serif;font-size:0.75rem;font-weight:700;line-height:1.5;position:relative;-webkit-padding-start:0.5rem;padding-inline-start:0.5rem;-webkit-padding-end:0.5rem;padding-inline-end:0.5rem;padding-block-start:2px;padding-block-end:2px;background-color:var(--ifl-colors-background-status-generic-weaker);color:var(--ifl-colors-foreground-status-generic);}.mosaic-provider-jobcards-wth5js svg{display:block;block-size:18px;inline-size:18px;}</style><li class=\"mosaic-provider-jobcards-wth5js e1xnxm2i0\"><div class=\"mosaic-provider-jobcards-1oa1vqn ecydgvn0\"><div class=\"mosaic-provider-jobcards-1f1q1js ecydgvn1\">Paid time off</div></div></li></ul><div class=\"heading6 error-text tapItem-gutter\"></div></div></td></tr></tbody></table><div class=\"css-1hysxc6 eu4oa1w0\" data-testid=\"location-rollup\"><a aria-label=\"View similar jobs with this employer\" class=\"css-1dpuwp7 e71d0lh0\" href=\"/addlLoc/redirect?tk=1j6k9a8oag2vh86d&amp;jk=252c1acf3cad34a8&amp;dest=%2Fjobs%3Fq%3Dmachine%2Blearning%26l%3Dpittsburgh%2Bpa%26radius%3D25%26grpKey%3DoAEB8gcFdG5mZWy4D8uB4gaqEBsKCW5vcm10aXRsZRoOZGF0YSBzY2llbnRpc3Q%253D\">View similar jobs with this employer<style data-emotion=\"mosaic-provider-jobcards 11dmwc2\">.mosaic-provider-jobcards-11dmwc2{inline-size:1.5rem;block-size:1.5rem;color:inherit;display:block;-webkit-flex:0 0 auto;-ms-flex:0 0 auto;flex:0 0 auto;-webkit-margin-start:0.5rem;margin-inline-start:0.5rem;}</style><svg aria-hidden=\"true\" class=\"mosaic-provider-jobcards-11dmwc2 eac13zx0\" fill=\"currentColor\" focusable=\"false\" role=\"img\" viewbox=\"0 0 24 24\" xmlns=\"http://www.w3.org/2000/svg\"><path d=\"M17.864 13.1383H2.9402c-.3191 0-.5886-.1097-.8082-.3292-.2195-.2197-.3293-.4891-.3293-.8083 0-.3191.1098-.5886.3293-.8082.2196-.2195.489-.3293.8082-.3293h14.918l-3.66-3.6727c-.2151-.2114-.3259-.4744-.3322-.7893-.0063-.3148.1044-.5841.3322-.808.2114-.2113.4776-.316.7988-.314.3212.002.5874.1086.7987.3198l5.606 5.606c.1119.112.1926.2363.2423.373.0497.1365.0745.2794.0745.4287 0 .1494-.0248.2913-.0745.4258-.0497.1346-.1304.258-.2423.37l-5.606 5.6117c-.2113.2114-.4734.318-.7862.32-.3128.002-.5833-.1046-.8113-.32-.2278-.2278-.3417-.4971-.3417-.808 0-.3108.1139-.5802.3417-.8082l3.6658-3.6598z\"></path></svg></a></div><div class=\"ctaContainer ctaContainer_withCompanyInfo\"><style data-emotion=\"mosaic-provider-jobcards ykqx5t\">.mosaic-provider-jobcards-ykqx5t{box-sizing:border-box;background:none;-webkit-appearance:none;-moz-appearance:none;-ms-appearance:none;appearance:none;text-align:start;-webkit-text-decoration:none;text-decoration:none;border:none;cursor:pointer;-webkit-user-select:none;-moz-user-select:none;-ms-user-select:none;user-select:none;-webkit-align-items:center;-webkit-box-align:center;-ms-flex-align:center;align-items:center;-webkit-box-pack:center;-ms-flex-pack:center;-webkit-justify-content:center;justify-content:center;position:relative;margin-block-start:0;margin-block-end:0;-webkit-margin-start:0;margin-inline-start:0;-webkit-margin-end:0;margin-inline-end:0;-webkit-padding-start:1rem;padding-inline-start:1rem;-webkit-padding-end:1rem;padding-inline-end:1rem;line-height:1.5;font-family:'Indeed Sans','Noto Sans','Helvetica Neue',Helvetica,Arial,'Liberation Sans',Roboto,Noto,sans-serif;font-size:1rem;font-weight:700;border-radius:0.75rem;-webkit-transition:border-color 200ms cubic-bezier(0.645, 0.045, 0.355, 1),background-color 200ms cubic-bezier(0.645, 0.045, 0.355, 1),opacity 200ms cubic-bezier(0.645, 0.045, 0.355, 1),box-shadow 200ms cubic-bezier(0.645, 0.045, 0.355, 1),color 200ms cubic-bezier(0.645, 0.045, 0.355, 1),z-index 200ms cubic-bezier(0.645, 0.045, 0.355, 1);transition:border-color 200ms cubic-bezier(0.645, 0.045, 0.355, 1),background-color 200ms cubic-bezier(0.645, 0.045, 0.355, 1),opacity 200ms cubic-bezier(0.645, 0.045, 0.355, 1),box-shadow 200ms cubic-bezier(0.645, 0.045, 0.355, 1),color 200ms cubic-bezier(0.645, 0.045, 0.355, 1),z-index 200ms cubic-bezier(0.645, 0.045, 0.355, 1);display:-webkit-inline-box;display:-webkit-inline-flex;display:-ms-inline-flexbox;display:inline-flex;inline-size:auto;padding-block-start:0.5625rem;padding-block-end:0.5625rem;-webkit-padding-start:0;padding-inline-start:0;-webkit-padding-end:0;padding-inline-end:0;min-block-size:2.75rem;box-shadow:none;background-color:transparent;color:var(--ifl-colors-foreground-action-primary);width:1.75rem;height:2rem;color:#6f6f6f;bottom:0;-webkit-background-position:top;background-position:top;border:none;background-color:transparent;padding:0;}.mosaic-provider-jobcards-ykqx5t::-moz-focus-inner{border:0;}@media (prefers-reduced-motion: reduce){.mosaic-provider-jobcards-ykqx5t{-webkit-transition:none;transition:none;}}.mosaic-provider-jobcards-ykqx5t:disabled{opacity:0.4;pointer-events:none;}.mosaic-provider-jobcards-ykqx5t:focus-visible{outline:none;box-shadow:var(--ifl-shadows-focus);}.mosaic-provider-jobcards-ykqx5t[aria-disabled='true']{cursor:default;}.mosaic-provider-jobcards-ykqx5t:visited{color:var(--ifl-colors-foreground-action-primary);}.mosaic-provider-jobcards-ykqx5t:hover:not([aria-disabled='true']){color:var(--ifl-colors-foreground-action-primary-hover);}.mosaic-provider-jobcards-ykqx5t:active:not([aria-disabled='true']){color:var(--ifl-colors-foreground-action-primary-active);}.mosaic-provider-jobcards-ykqx5t:focus:active:not(:focus-visible){box-shadow:none;}.mosaic-provider-jobcards-ykqx5t[aria-disabled='true']{color:rgba(0,79,203,0.4);}.mosaic-provider-jobcards-ykqx5t .bookmarkIcon{margin-top:0;}[dir=\"rtl\"] .mosaic-provider-jobcards-ykqx5t{right:auto!important;}.mosaic-provider-jobcards-ykqx5t .lower{top:38px;}.mosaic-provider-jobcards-ykqx5t button{background-color:white;border:none;padding:0;margin-left:0;}</style><button aria-label=\"Save job Toggle\" aria-pressed=\"false\" class=\"bookmark bookmark-tap-target mosaic-provider-jobcards-ykqx5t e8ju0x50\"><style data-emotion=\"mosaic-provider-jobcards s0xhw4\">.mosaic-provider-jobcards-s0xhw4{inline-size:1.5rem;block-size:1.5rem;color:var(--ifl-colors-foreground-strong);}</style><svg aria-hidden=\"true\" class=\"mosaic-provider-jobcards-s0xhw4 eac13zx0\" fill=\"currentColor\" focusable=\"false\" role=\"presentation\" viewbox=\"0 0 24 24\" xmlns=\"http://www.w3.org/2000/svg\"><path d=\"M11.9999 18.2214l-4.0268 1.7222c-.7583.3192-1.4773.2559-2.157-.19-.6796-.4456-1.0195-1.0763-1.0195-1.892V5.0719c0-.6297.2218-1.1663.6653-1.6098s.98-.6652 1.6097-.6652h9.8565c.6297 0 1.1663.2217 1.6098.6652s.6652.9801.6652 1.6098v12.7897c0 .8157-.3398 1.4464-1.0195 1.892-.6796.4459-1.3986.5092-2.157.19l-4.0267-1.7222zm0-2.493l4.9282 2.1142V5.0719H7.0716v12.7707L12 15.7284z\"></path></svg></button></div><div aria-live=\"polite\"></div></div> \n",
      " 16\n"
     ]
    }
   ],
   "source": [
    "print(posts[0],\"\\n\", len(posts))"
   ]
  },
  {
   "cell_type": "code",
   "execution_count": 10,
   "id": "5e0e739f",
   "metadata": {},
   "outputs": [
    {
     "data": {
      "text/plain": [
       "<h2 class=\"jobTitle mosaic-provider-jobcards-1o1rnx9 eu4oa1w0\" tabindex=\"-1\"><a aria-label=\"full details of Data Scientist, New Graduate\" class=\"jcs-JobTitle css-1baag51 eu4oa1w0\" data-hide-spinner=\"true\" data-hiring-event=\"false\" data-jk=\"252c1acf3cad34a8\" data-mobtk=\"1j6k9a8oag2vh86d\" href=\"/rc/clk?jk=252c1acf3cad34a8&amp;bb=6BvJ0kJ1ahkVhDQE46-36taF_9LCO_6b8yMPOgM0Z-0Dw-m7IuboOyHnCZoqx8wSvncYpkmFV7AGtv4l5l9aE1rP9aJvO10YcR9cswLKlcHxBmUSCrKoVBbJn7sO-LFaREZ4QC0mYxaUvxJEMev2ag%3D%3D&amp;xkcb=SoAg67M3sUamxigREr0LbzkdCdPP&amp;fccid=1d7146bd38091a7a&amp;vjs=3\" id=\"job_252c1acf3cad34a8\" role=\"button\"><span id=\"jobTitle-252c1acf3cad34a8\" title=\"Data Scientist, New Graduate\">Data Scientist, New Graduate</span></a></h2>"
      ]
     },
     "execution_count": 10,
     "metadata": {},
     "output_type": "execute_result"
    }
   ],
   "source": [
    "post = posts[0]\n",
    "post.find(\"h2\", class_ = \"jobTitle\")\n"
   ]
  },
  {
   "cell_type": "code",
   "execution_count": 11,
   "id": "59f9282f",
   "metadata": {},
   "outputs": [
    {
     "data": {
      "text/plain": [
       "'Data Scientist, New Graduate'"
      ]
     },
     "execution_count": 11,
     "metadata": {},
     "output_type": "execute_result"
    }
   ],
   "source": [
    "# title\n",
    "post.find(\"h2\", class_ = \"jobTitle\").get_text(strip = True)"
   ]
  },
  {
   "cell_type": "code",
   "execution_count": 12,
   "id": "4e0b61a7",
   "metadata": {},
   "outputs": [
    {
     "data": {
      "text/plain": [
       "<a aria-label=\"full details of Data Scientist, New Graduate\" class=\"jcs-JobTitle css-1baag51 eu4oa1w0\" data-hide-spinner=\"true\" data-hiring-event=\"false\" data-jk=\"252c1acf3cad34a8\" data-mobtk=\"1j6k9a8oag2vh86d\" href=\"/rc/clk?jk=252c1acf3cad34a8&amp;bb=6BvJ0kJ1ahkVhDQE46-36taF_9LCO_6b8yMPOgM0Z-0Dw-m7IuboOyHnCZoqx8wSvncYpkmFV7AGtv4l5l9aE1rP9aJvO10YcR9cswLKlcHxBmUSCrKoVBbJn7sO-LFaREZ4QC0mYxaUvxJEMev2ag%3D%3D&amp;xkcb=SoAg67M3sUamxigREr0LbzkdCdPP&amp;fccid=1d7146bd38091a7a&amp;vjs=3\" id=\"job_252c1acf3cad34a8\" role=\"button\"><span id=\"jobTitle-252c1acf3cad34a8\" title=\"Data Scientist, New Graduate\">Data Scientist, New Graduate</span></a>"
      ]
     },
     "execution_count": 12,
     "metadata": {},
     "output_type": "execute_result"
    }
   ],
   "source": [
    "# url\n",
    "atag = post.h2.a\n",
    "atag"
   ]
  },
  {
   "cell_type": "code",
   "execution_count": 13,
   "id": "f5cfb256",
   "metadata": {},
   "outputs": [
    {
     "data": {
      "text/plain": [
       "'https://www.indeed.com/rc/clk?jk=252c1acf3cad34a8&bb=6BvJ0kJ1ahkVhDQE46-36taF_9LCO_6b8yMPOgM0Z-0Dw-m7IuboOyHnCZoqx8wSvncYpkmFV7AGtv4l5l9aE1rP9aJvO10YcR9cswLKlcHxBmUSCrKoVBbJn7sO-LFaREZ4QC0mYxaUvxJEMev2ag%3D%3D&xkcb=SoAg67M3sUamxigREr0LbzkdCdPP&fccid=1d7146bd38091a7a&vjs=3'"
      ]
     },
     "execution_count": 13,
     "metadata": {},
     "output_type": "execute_result"
    }
   ],
   "source": [
    "atag.get(\"href\")\n",
    "job_url = \"https://www.indeed.com\" + atag.get(\"href\")\n",
    "job_url"
   ]
  },
  {
   "cell_type": "code",
   "execution_count": 14,
   "id": "ce97921f",
   "metadata": {},
   "outputs": [
    {
     "data": {
      "text/plain": [
       "<div class=\"company_location css-10q8be3 e37uo190\"><div data-testid=\"timing-attribute\" elementtiming=\"significant-render\"><div class=\"css-1afmp4o e37uo190\"><span class=\"css-1ssrdda eu4oa1w0\" data-testid=\"company-name\">Duolingo</span></div><div class=\"css-1f06pz4 eu4oa1w0\" data-testid=\"text-location\">Pittsburgh, PA</div></div></div>"
      ]
     },
     "execution_count": 14,
     "metadata": {},
     "output_type": "execute_result"
    }
   ],
   "source": [
    "proto1 = post.find(\"div\", \"company_location\")\n",
    "proto1"
   ]
  },
  {
   "cell_type": "code",
   "execution_count": 15,
   "id": "112c6aa4",
   "metadata": {},
   "outputs": [
    {
     "data": {
      "text/plain": [
       "'Duolingo'"
      ]
     },
     "execution_count": 15,
     "metadata": {},
     "output_type": "execute_result"
    }
   ],
   "source": [
    "# company name\n",
    "post.find(\"span\", {\"data-testid\": \"company-name\"}).get_text(strip = True)"
   ]
  },
  {
   "cell_type": "code",
   "execution_count": 16,
   "id": "31897421",
   "metadata": {},
   "outputs": [
    {
     "data": {
      "text/plain": [
       "'Pittsburgh, PA'"
      ]
     },
     "execution_count": 16,
     "metadata": {},
     "output_type": "execute_result"
    }
   ],
   "source": [
    "# company location\n",
    "post.find(\"div\", {\"data-testid\": \"text-location\"}).get_text(strip = True)"
   ]
  },
  {
   "cell_type": "markdown",
   "id": "f82713b1",
   "metadata": {},
   "source": [
    "# Url List\n",
    "#### urls"
   ]
  },
  {
   "cell_type": "code",
   "execution_count": 42,
   "id": "3e9f4de7",
   "metadata": {},
   "outputs": [
    {
     "data": {
      "text/plain": [
       "['https://www.indeed.com/rc/clk?jk=252c1acf3cad34a8&bb=6BvJ0kJ1ahkVhDQE46-36taF_9LCO_6b8yMPOgM0Z-0Dw-m7IuboOyHnCZoqx8wSvncYpkmFV7AGtv4l5l9aE1rP9aJvO10YcR9cswLKlcHxBmUSCrKoVBbJn7sO-LFaREZ4QC0mYxaUvxJEMev2ag%3D%3D&xkcb=SoAg67M3sUamxigREr0LbzkdCdPP&fccid=1d7146bd38091a7a&vjs=3',\n",
       " 'https://www.indeed.com/rc/clk?jk=bb7b95e0f22694a5&bb=6BvJ0kJ1ahkVhDQE46-36oSjS-RKcqztSwEXl2zaNw0HDqWs-5hOj4TrhxUtKudYBxWUZWbcSbdavy4VWnAVJne4PFQtHC8ZYqJKTTPY8ec1QLI6WfN7UYNhMOCXOaggglh3fv9jW_G89TJSWHD1Xg%3D%3D&xkcb=SoCU67M3sUamxigREr0KbzkdCdPP&fccid=b1330bfa6e5aae73&vjs=3',\n",
       " 'https://www.indeed.com/rc/clk?jk=50520191fdf3ff87&bb=6BvJ0kJ1ahkVhDQE46-36skEg_7cjVEphREjugZL18lxyVAbbVERk-7rpyQah3MevEI1MeHfNj_A5PavvOcXYwYeDq7rtHcnu4kelsjUMz_3YIV6l7Qp6ZPT1xrjvVwQkPKDbhIdaqh_OZqqmAd_IQ%3D%3D&xkcb=SoAJ67M3sUamxigREr0JbzkdCdPP&fccid=b1330bfa6e5aae73&vjs=3',\n",
       " 'https://www.indeed.com/rc/clk?jk=0f52c50aa0c0ca65&bb=6BvJ0kJ1ahkVhDQE46-36spiHFMJ5xa08ezVcQDy9SaYcWhbB8A8CXGvIPtkEf8oqCT6iDvdDkh5S9JvslDACtPd88AuifLE971dZjoy_i1tLRm9Djw8KHOB-evsqPmpvz_NseFFcctQkcAJ85TkgA%3D%3D&xkcb=SoC967M3sUamxigREr0IbzkdCdPP&fccid=a5b4499d9e91a5c6&vjs=3',\n",
       " 'https://www.indeed.com/rc/clk?jk=aacc3dee0d458827&bb=6BvJ0kJ1ahkVhDQE46-36va1pktBVYTwh_SJeAjPpVP1IQ-erJWty6fw0QZmJk0VsadUILtNLPTdo0XnpUjoXIivFUT9V7UkCDRPGvsdN0_eo_xRLh2fNNWfOGEZx9tKbfgbBWqoVcBicMMqOr4dgQ%3D%3D&xkcb=SoAz67M3sUamxigREr0PbzkdCdPP&fccid=7655fb7543c6cbbf&vjs=3',\n",
       " 'https://www.indeed.com/viewjob?jk=fedcba9876543210',\n",
       " 'https://www.indeed.com/pagead/clk?mo=r&ad=-6NYlbfkN0AMofH_6zXbiqn6xehDj89HQNfpf30LHk40Y3Yl5cZTpm-EXukPQNet_K9MQV9Co4yRdcJ11mqwYEZxpvPlNEuzRdtljuxRnscaJPAntVq4dP_Kckdk23RFyzQS6qCyUeNV0yeld6igNITb0lGDjpNTsgtiBwGlqWMb9TLisD_nXTOGRmo83jQha7gVPtV3jv-NJUxSGBpTqufsPudNupaYA9YAaxhl3jr5Rj9oFxsMQuR9c91TeZltbFFSeduMHykzWPQ-u7sBcJDb0KujLuAAfaAzsTXgANKOd7j5UpucaqYrGl83Yc-jQM3m7Qw9uH7_Qw5sY_2g6dtHxywclG2z0faWT_0iLVAK3VCRdbGsWAex1Hj5pCmPUMQJYHyNwQ2DAZ67CDHYTKhHJ2Y9SI_k6fBo9Sxccis70NQ_zOq6k1TxXnTYWAPMY2-muXKCzFOrmTMfhHcTqWHEIWkRI9IYWy7fg_1HKLX8ODuZ3LgM8xTYOF_6cz1KbcJnIviLah6APgMCejdqo-BmIe5JO69PM1n26QZpNje2D3Y4X_8N2lUMgBw6jIDi5S5NHQ3xuhu7I9BHTCgQ_yKNd-KSxylXtHSy8aAqNyjNkcbteazzIRWtA9O3V2O2YweVV-EtMvktT7qw4m-Sh7OfWJYNFXFwooAJrO-AdnlFGveymrJV_ycfDcuxZY5fMAWruHKgzu9E8USrJfSLm28qqIVoaEcLj7iisqHJ8EdVJxwe4CzUEiI1PdcrD5q2agCRT_Sc4F352e0cIfIWharKVEzXI_wqz-alF-mdelknws0W8Gqx_IRBoi8QLUeM2rRM8C5rB_RugFz96D-9w8hjvKz3Ez1BRWQqwdeF_81UNmaIAHc1hXWwNWI8Bx_6BV1XuIn6DI2ZNr8k5Mcl5M3gp1RQpBj7QNkwrdyCyi8spoRECJNs9o0ISr0RzaULJ0XUIyVDv1BFMFhbFd-up58veZAz-lkp7-MB5zPT82UdIRmbJf3Ybu9zFcec9BMGf-G-Wvp-5dKnslVP-ZaiZyPCvoMR4hI1fuImtf7v9mRm1jhlKoGWWG7hOpn2-gexJjI0A6stoZvahXXaJj76zTT86UKSBlc_h6bcMhgssr0GYIGVfyBRzqqKxWEqXjtbdaGOU5AmEJMwMIFqK45Qdu_pscUuHcK7ROHXLVFClE3ehtXm4t2PjENLUonZFRi0nWLXadnWOl2_bgRqbLtR-U-JGFXJW7IOhWTGKQdX0bhVGZYRU330tjr5mLKuMP_EzvinT3b0sz3zsHV6oWgvpgMLyu2WvgC1XN7b7bazOpkXDT6X9Eb0Ww==&xkcb=SoBz6_M3sUamxigREr0ObzkdCdPP&camk=tQsC0y0u1LpwjyZvQ6w3oQ==&p=5&fvj=0&vjs=3',\n",
       " 'https://www.indeed.com/rc/clk?jk=696f8bb513ef7f70&bb=6BvJ0kJ1ahkVhDQE46-36g558MScniL199y3vkrdE5jxbhkuyOPIfjYpJLVSXtOU3BsUwP9urPMCRbqglPM9Vii3_MBRtfmjnF06KsURpaCZgTdVq1N7Wv0RRCDQ-XDx9fXB_rq2Gb48Ut2xgNhJtg%3D%3D&xkcb=SoAa67M3sUamxigREr0NbzkdCdPP&fccid=3aa37f402da13777&vjs=3',\n",
       " 'https://www.indeed.com/rc/clk?jk=f529be1c093777fb&bb=6BvJ0kJ1ahkVhDQE46-36s_xQKicqAhGKh0rFsrZjt4d3hTq3coNCI4lXpEyRR2UKej84VYmFMjgGMgRKUDG5f_8zPWf8YVE0GsiFrJbXHkPE-VHyx7sB-MmtMTvVWkljSU_LrxJIqcNmXERAAmM_w%3D%3D&xkcb=SoCu67M3sUamxigREr0MbzkdCdPP&fccid=68a181b72706f64f&vjs=3',\n",
       " 'https://www.indeed.com/rc/clk?jk=4fdafb0b5d1d1044&bb=6BvJ0kJ1ahkVhDQE46-36n76vAWPT3-fjy_wEBpOJEHqYiM9481my2m0uYI4xPS-NT1MTqHZqkqrWGhYb0YwOGTYhsZnaZO42zhEVYM5qxUmXcBDIUR54KRFcDK0yRF_yxiSNda-qaOamTMpeUK4Yw%3D%3D&xkcb=SoBH67M3sUamxigREr0DbzkdCdPP&fccid=ac429eb6be887f60&vjs=3',\n",
       " 'https://www.indeed.com/rc/clk?jk=c1fbba7eab24f4e7&bb=6BvJ0kJ1ahkVhDQE46-36tVZ3sE_ILo4MHhIy4ni2u1Gb5m0JI2rP8fJdLnJltmnhZsY_dMpnxLeW7ghPRn9SUDcxKcGeWyHNnTa203jHtilN8ITY3HVKBRVQwuMxAWKgRuP0kyKc5cnTrrAD_ZMsw%3D%3D&xkcb=SoDz67M3sUamxigREr0CbzkdCdPP&fccid=932bcab1f7ee18f8&vjs=3',\n",
       " 'https://www.indeed.com/rc/clk?jk=33f09109d5e5c3a6&bb=6BvJ0kJ1ahkVhDQE46-36myPIhl3XCXZGYT_SmJm7sUfLhhd7E2lJHqHjWK5k9E8oT33CREVDrlqFfGMBfCnjTJcbksX4_1IjTaFuYY2QxeFReifFMX5ZC32btpgYeXY5tJlT-D7I-SASGyBwkn1aQ%3D%3D&xkcb=SoBu67M3sUamxigREr0BbzkdCdPP&fccid=fb97ab53c1134fb9&vjs=3',\n",
       " 'https://www.indeed.com/rc/clk?jk=830c329d2a0e67a9&bb=6BvJ0kJ1ahkVhDQE46-36j2OcAvyrc-AEXFaPuRAY8ViKiUGgZvoXFNGOFZDxriQGoMnNb9nAPv1eGV6T8xocl8RgHPqipk5NvnwjjXsDKZJaGHZNB17lrE7YwQZxI5T08Qm0MzqDD0VFThNGPQffA%3D%3D&xkcb=SoDa67M3sUamxigREr0AbzkdCdPP&fccid=dd616958bd9ddc12&vjs=3',\n",
       " 'https://www.indeed.com/rc/clk?jk=f69ca53516c9f594&bb=6BvJ0kJ1ahkVhDQE46-36jmpsLoOqmvNiz_p2DmQw85hYZwj43I8Uf0sIs76SpO3t4cNukR7z-Pi0HjufuxBn0m3xxMoia4aQGzYkDTFgxS53KoFkP7xdBzR2U7Ja4slHNN5UXTiXvHzIezrsJJlKA%3D%3D&xkcb=SoBU67M3sUamxigREr0HbzkdCdPP&fccid=dd616958bd9ddc12&vjs=3',\n",
       " 'https://www.indeed.com/rc/clk?jk=f8f59339d9e75fee&bb=6BvJ0kJ1ahkVhDQE46-36uv-X53R0KH5Q6YPbnXcTExWq5oPG4ljv1EUeUqFp44yKynPZywRYlH8qxadKvLVofBo0QLoQUV04nio_QntDXgNP7hTczC9-_-cEEiyyS7yv5tIdPMAyGGaYSUNL3geLQ%3D%3D&xkcb=SoDg67M3sUamxigREr0GbzkdCdPP&fccid=dd616958bd9ddc12&vjs=3',\n",
       " 'https://www.indeed.com/rc/clk?jk=7978d0d96d118382&bb=6BvJ0kJ1ahkVhDQE46-36jgCtc9tZ3lWeKaCU2UfQisuEilKxZhqvvrIFwssRvRt5t9Y73nGP7qglJcYjZJWkTAK7LKMO5R5su9SYUnPHVhdXTe21kvsH8kgF78rlOMIs_dsRIxRcqyQ85ZasW312w%3D%3D&xkcb=SoB967M3sUamxigREr0FbzkdCdPP&fccid=c71b680e92ae5dd6&vjs=3']"
      ]
     },
     "execution_count": 42,
     "metadata": {},
     "output_type": "execute_result"
    }
   ],
   "source": [
    "urls = []\n",
    "for item in posts:\n",
    "    job_url = item.h2.a.get(\"href\")\n",
    "    urls.append(\"https://www.indeed.com\" + job_url)\n",
    "\n",
    "urls"
   ]
  },
  {
   "cell_type": "markdown",
   "id": "dafc0cec",
   "metadata": {},
   "source": [
    "# Job Title List\n",
    "#### job_titles"
   ]
  },
  {
   "cell_type": "code",
   "execution_count": 18,
   "id": "25189f39",
   "metadata": {},
   "outputs": [
    {
     "data": {
      "text/plain": [
       "['Data Scientist, New Graduate',\n",
       " 'Data Expert',\n",
       " 'Machine Learning Engineer - Data Science Innovation (DSI)',\n",
       " 'Student Researcher, BS/MS, Fall 2025',\n",
       " 'Machine Learning Research Engineer - Mellon College of Science - Pittsburgh Supercomputing Center',\n",
       " 'Machine Learning Research Engineer - Mellon College of Science - Pittsburgh Supercomputing Center',\n",
       " 'Technology Engineer, NAS, NetApp',\n",
       " 'Software Engineer - Machine Learning',\n",
       " 'MACHINE LEARNING ENGINEER',\n",
       " 'Machine Learning Engineering Lead',\n",
       " 'Machine Learning Engineer',\n",
       " 'Machine Learning Engineer',\n",
       " 'Senior Research Scientist',\n",
       " 'Senior Data Scientist',\n",
       " 'Post-Doc Researcher',\n",
       " 'Artificial Intelligence(AI) Agent Developer']"
      ]
     },
     "execution_count": 18,
     "metadata": {},
     "output_type": "execute_result"
    }
   ],
   "source": [
    "job_titles = []\n",
    "\n",
    "for item in posts:\n",
    "    title = item.find(\"h2\", class_ = \"jobTitle\").get_text(strip = True)\n",
    "    if title:\n",
    "        job_titles.append(title)\n",
    "    \n",
    "job_titles\n"
   ]
  },
  {
   "cell_type": "markdown",
   "id": "663afc98",
   "metadata": {},
   "source": [
    "### Company List\n",
    "#### companies"
   ]
  },
  {
   "cell_type": "code",
   "execution_count": 19,
   "id": "30bd4e59",
   "metadata": {},
   "outputs": [
    {
     "data": {
      "text/plain": [
       "['Duolingo',\n",
       " 'PNC Financial Services Group',\n",
       " 'PNC Financial Services Group',\n",
       " 'Google',\n",
       " 'Carnegie Mellon University',\n",
       " 'Carnegie Mellon University',\n",
       " 'PNC Financial Services Group',\n",
       " 'Hike2',\n",
       " 'Qeexo, Co.',\n",
       " 'Credit Genie',\n",
       " 'Govini',\n",
       " 'Adidev Technologies Inc',\n",
       " 'Data Science for Social Good, Carnegie Mellon...',\n",
       " 'Data Science for Social Good, Carnegie Mellon...',\n",
       " 'Data Science for Social Good, Carnegie Mellon...',\n",
       " 'Visvero, Inc.']"
      ]
     },
     "execution_count": 19,
     "metadata": {},
     "output_type": "execute_result"
    }
   ],
   "source": [
    "companies = []\n",
    "\n",
    "for item in posts:\n",
    "    company = item.find(\"span\", {\"data-testid\": \"company-name\"}).get_text(strip = True)\n",
    "    if company:\n",
    "        companies.append(company)\n",
    "        \n",
    "companies"
   ]
  },
  {
   "cell_type": "markdown",
   "id": "126ebc57",
   "metadata": {},
   "source": [
    "# Location List (city, state, zip)\n",
    "locations"
   ]
  },
  {
   "cell_type": "code",
   "execution_count": null,
   "id": "f91d9bee",
   "metadata": {},
   "outputs": [
    {
     "data": {
      "text/plain": [
       "['Pittsburgh, PA',\n",
       " 'Pittsburgh, PA 15222(Strip District area)',\n",
       " 'Pittsburgh, PA 15222(Strip District area)',\n",
       " 'Pittsburgh, PA(Larimer area)',\n",
       " 'Pittsburgh, PA',\n",
       " 'Pittsburgh, PA',\n",
       " 'Pittsburgh, PA 15222(Strip District area)',\n",
       " 'Remote in Pittsburgh, PA',\n",
       " 'Pittsburgh, PA',\n",
       " 'Pittsburgh, PA',\n",
       " 'Pittsburgh, PA 15201(Lower Lawrenceville area)',\n",
       " 'Pittsburgh, PA 15219(Middle Hill area)',\n",
       " 'Pittsburgh, PA',\n",
       " 'Pittsburgh, PA',\n",
       " 'Pittsburgh, PA',\n",
       " 'Pittsburgh, PA 15205']"
      ]
     },
     "execution_count": 20,
     "metadata": {},
     "output_type": "execute_result"
    }
   ],
   "source": [
    "locations = []\n",
    "\n",
    "for item in posts:\n",
    "    location = item.find(\"div\", {\"data-testid\": \"text-location\"}).get_text(strip = True)\n",
    "    if location:\n",
    "        locations.append(location)\n",
    "        \n",
    "locations"
   ]
  },
  {
   "cell_type": "markdown",
   "id": "e83bcf1e",
   "metadata": {},
   "source": [
    "# Salary\n",
    "#### salaries"
   ]
  },
  {
   "cell_type": "code",
   "execution_count": 32,
   "id": "75d2fb6c",
   "metadata": {},
   "outputs": [
    {
     "data": {
      "text/plain": [
       "'$135,000 - $200,000'"
      ]
     },
     "execution_count": 32,
     "metadata": {},
     "output_type": "execute_result"
    }
   ],
   "source": [
    "post.find(\"h2\", \"mosaic-provider-jobcards-5vqdjd\").get_text(strip = True)"
   ]
  },
  {
   "cell_type": "code",
   "execution_count": 40,
   "id": "6ced8a5f",
   "metadata": {},
   "outputs": [],
   "source": [
    "salaries = []\n",
    "\n",
    "for item in posts:\n",
    "    try:\n",
    "        salary = item.find(\"h2\", \"mosaic-provider-jobcards-5vqdjd\").get_text(strip = True)\n",
    "    except AttributeError:\n",
    "        salary = \" \"\n",
    "    salaries.append(salary)"
   ]
  },
  {
   "cell_type": "code",
   "execution_count": 43,
   "id": "89e564c4",
   "metadata": {},
   "outputs": [
    {
     "data": {
      "text/plain": [
       "['$135,000 - $200,000',\n",
       " '$97,500 - $132,500',\n",
       " ' ',\n",
       " '$92,000 - $122,000',\n",
       " ' ',\n",
       " ' ',\n",
       " ' ',\n",
       " '$100,000 - $170,000',\n",
       " '$105,000',\n",
       " '$200,000 - $250,000',\n",
       " ' ',\n",
       " ' ',\n",
       " ' ',\n",
       " ' ',\n",
       " ' ',\n",
       " ' ']"
      ]
     },
     "execution_count": 43,
     "metadata": {},
     "output_type": "execute_result"
    }
   ],
   "source": [
    "salaries"
   ]
  },
  {
   "cell_type": "markdown",
   "id": "ffbfb9d6",
   "metadata": {},
   "source": [
    "# Generic info for job info"
   ]
  },
  {
   "cell_type": "code",
   "execution_count": null,
   "id": "7ef66f34",
   "metadata": {},
   "outputs": [
    {
     "data": {
      "text/plain": [
       "<Response [200]>"
      ]
     },
     "execution_count": 32,
     "metadata": {},
     "output_type": "execute_result"
    }
   ],
   "source": [
    "response = requests.get(urls[0], headers = headers)\n",
    "soup = BeautifulSoup(response.text, \"html.parser\")\n",
    "response\n"
   ]
  },
  {
   "cell_type": "code",
   "execution_count": null,
   "id": "693c7b92",
   "metadata": {},
   "outputs": [
    {
     "data": {
      "text/plain": [
       "'$170,000 - $300,000 a year-Full-time'"
      ]
     },
     "execution_count": 24,
     "metadata": {},
     "output_type": "execute_result"
    }
   ],
   "source": [
    "soup.find(\"div\", id = \"salaryInfoAndJobType\").get_text(strip = True)\n"
   ]
  },
  {
   "cell_type": "code",
   "execution_count": null,
   "id": "162c90c0",
   "metadata": {},
   "outputs": [
    {
     "data": {
      "text/plain": [
       "\"About MatroidMatroid is a full-service computer vision company that has developed an end-to-end platform allowing enterprise customers to rapidly train anddeploy automated visual inspection on imagery including EO, IR, X-Ray, CT, OCT, and others.Founded in 2016 by a Stanford professor, Matroid has a broad and rapidly growing set of customers in manufacturing, industrial IoT, government and security.We are looking for a world-class Deep Learning Software Engineer who is excited to operate at the forefront of computer vision and deep learning applied to challenging, real-world use-cases. You will be working in a fast-paced environment, surrounded by experts who are passionate about their work.This position is onsite at our downtown Palo Alto office, located near the Stanford campus and Caltrain.What you'll doAdvance the computer vision and deep learning technology powering Matroid's computer vision platformKeep on top of the latest developments and research in academic CV/DL and decide how we should apply them to our real world use-casesEngineer new DL capabilities end-to-end; research, experiment, iterate, develop, optimize and productionizeHow you'll be doing itOperating in a collaborative but highly autonomous environment where you are empowered to make an impactKnowing that everything you build affects real-world users, with corresponding quality standards for your workCollaborating with other DL engineers, as well as our other expert teams, including product, infrastructure, and field engineeringWhat you bring to the tableMasters in Computer Science, Software Engineering, Mathematics, or equivalentPassion for computer vision and deep learning; you are excited to adapt the latest VLMs, or implement a video transformer model from scratch, or get realtime segmentation running on a tiny edge device, or train a massive industry-specific foundation model3+ years of industry and/or academic experience relating to software, deep learning and computer visionExperience using and modifying state-of-the-art CV models and frameworks, with understanding of their theoretical underpinningsKnowledge of model architectures and techniques across a broad range of domains, including object detection, segmentation, anomaly detection, object tracking, video-understanding and vision language modelsStrong software engineering skills - you care deeply about the quality of your codeSolid oral, written, presentation, collaboration, and interpersonal communication skillsBonus points if...Specialization in CV, artificial intelligence, machine learning, or related fieldsSignificant computer vision & deep learning academic and/or research experiencePrior work experience with applied computer vision in real-world use-casesCool personal projects, competitions, hackathons, etc. demonstrating your passion & expertisePrevious work at high-growth technology startupsWhat we offer in returnCompetitive pay and equity.The chance to constantly work on stimulating intellectual challenges.Gym membership reimbursement.Free lunch, healthy drinks, and snacks every day.Medical, dental, and vision insurance with 100% paid premiums.A flexible schedule that leaves time for all of your other interests.A budget for whatever hardware or software will make you most effective.Regular tech talks to discuss the latest advances in CV, DL and engineeringMatroid is committed to creating a diverse work environment and is proud to be an equal-opportunity employer. All qualified applicants will receive consideration for employment without regard to race, religion, color, sex, gender identity, sexual orientation, age, non-disqualifying physical or mental disability, national origin, veteran status, or any other basis covered by appropriate law.\""
      ]
     },
     "execution_count": 35,
     "metadata": {},
     "output_type": "execute_result"
    }
   ],
   "source": [
    "soup.find(\"div\", id = \"jobDescriptionText\").get_text(strip = True)"
   ]
  },
  {
   "cell_type": "markdown",
   "id": "df5fed9c",
   "metadata": {},
   "source": [
    "# Job Description\n",
    "#### job_ds"
   ]
  },
  {
   "cell_type": "code",
   "execution_count": 47,
   "id": "8478af3f",
   "metadata": {},
   "outputs": [
    {
     "data": {
      "text/plain": [
       "'Artificial Intelligence(AI) Agent Developer'"
      ]
     },
     "execution_count": 47,
     "metadata": {},
     "output_type": "execute_result"
    }
   ],
   "source": [
    "title = item.find(\"h2\", class_ = \"jobTitle\").get_text(strip = True)\n",
    "title"
   ]
  },
  {
   "cell_type": "code",
   "execution_count": 48,
   "id": "fa807e4b",
   "metadata": {},
   "outputs": [
    {
     "ename": "AttributeError",
     "evalue": "'str' object has no attribute 'click'",
     "output_type": "error",
     "traceback": [
      "\u001b[31m---------------------------------------------------------------------------\u001b[39m",
      "\u001b[31mAttributeError\u001b[39m                            Traceback (most recent call last)",
      "\u001b[36mCell\u001b[39m\u001b[36m \u001b[39m\u001b[32mIn[48]\u001b[39m\u001b[32m, line 1\u001b[39m\n\u001b[32m----> \u001b[39m\u001b[32m1\u001b[39m \u001b[43mtitle\u001b[49m\u001b[43m.\u001b[49m\u001b[43mclick\u001b[49m()\n",
      "\u001b[31mAttributeError\u001b[39m: 'str' object has no attribute 'click'"
     ]
    }
   ],
   "source": [
    "title.click()"
   ]
  },
  {
   "cell_type": "code",
   "execution_count": null,
   "id": "70cca24b",
   "metadata": {},
   "outputs": [],
   "source": [
    "jd = []\n",
    "\n",
    "for item in jobs:\n",
    "    title.click()\n",
    "    sleep(randint(3, 5))\n",
    "try:\n",
    "    jd.append(driver.find_element(By.ID, \"jobDescriptionText\").text)\n",
    "except:\n",
    "    jd.append(\"None\")"
   ]
  },
  {
   "cell_type": "code",
   "execution_count": null,
   "id": "dd350492",
   "metadata": {},
   "outputs": [],
   "source": [
    "# job_ds = []\n",
    "# for url in urls:\n",
    "#     response = requests.get(url, headers = headers)\n",
    "#     soup = BeautifulSoup(response.text, \"html.parser\")\n",
    "#     if soup.find(\"div\", id = \"jobDescriptionText\") is None:\n",
    "#         job_ds.append(\"None\")\n",
    "#     else:\n",
    "#         ds = soup.find(\"div\", id = \"jobDescriptionText\").get_text(strip = True)\n",
    "#         if ds:\n",
    "#             job_ds.append(salary)"
   ]
  },
  {
   "cell_type": "code",
   "execution_count": null,
   "id": "b2418aba",
   "metadata": {},
   "outputs": [
    {
     "data": {
      "text/plain": [
       "['$150,000 - $200,000 a year-Full-time',\n",
       " '$150,000 - $200,000 a year-Full-time',\n",
       " '$150,000 - $200,000 a year-Full-time',\n",
       " '$150,000 - $200,000 a year-Full-time',\n",
       " 'None',\n",
       " '$150,000 - $200,000 a year-Full-time',\n",
       " '$150,000 - $200,000 a year-Full-time',\n",
       " '$150,000 - $200,000 a year-Full-time',\n",
       " '$150,000 - $200,000 a year-Full-time',\n",
       " '$150,000 - $200,000 a year-Full-time',\n",
       " '$150,000 - $200,000 a year-Full-time',\n",
       " '$150,000 - $200,000 a year-Full-time',\n",
       " '$150,000 - $200,000 a year-Full-time',\n",
       " 'None',\n",
       " '$150,000 - $200,000 a year-Full-time',\n",
       " '$150,000 - $200,000 a year-Full-time']"
      ]
     },
     "execution_count": 43,
     "metadata": {},
     "output_type": "execute_result"
    }
   ],
   "source": [
    "job_ds"
   ]
  },
  {
   "cell_type": "markdown",
   "id": "a6cda79e",
   "metadata": {},
   "source": [
    "# Integretion I"
   ]
  },
  {
   "cell_type": "code",
   "execution_count": null,
   "id": "95df37d6",
   "metadata": {},
   "outputs": [],
   "source": [
    "def get_job(post):\n",
    "    title = post.find(\"h2\", class_ = \"jobTitle\").get_text(strip = True)\n",
    "    company = post.find(\"span\", {\"data-testid\": \"company-name\"}).get_text(strip = True)\n",
    "    location = post.find(\"div\", {\"data-testid\": \"text-location\"}).get_text(strip = True)\n",
    "    job_url = \"https://www.indeed.com\" + post.h2.a.get(\"href\")\n",
    "    \n",
    "    response = requests.get(job_url, headers = headers)\n",
    "    soup = BeautifulSoup(response.text, \"html.parser\")\n",
    "    \n",
    "    try:\n",
    "        salary = item.find(\"h2\", \"mosaic-provider-jobcards-5vqdjd\").get_text(strip = True)\n",
    "    except AttributeError:\n",
    "        salary = \" \"\n",
    "        \n",
    "    try:\n",
    "        driver.find_element(By.ID, \"jobDescriptionText\").text\n",
    "    except:\n",
    "        jd.append(\"None\")\n",
    "    \n",
    "    \n",
    "    \n",
    "    \n",
    "    record = (title, company, location, salary, job_url, job_description)\n",
    "    return record\n"
   ]
  },
  {
   "cell_type": "code",
   "execution_count": null,
   "id": "7352d63b",
   "metadata": {},
   "outputs": [],
   "source": [
    "records = []\n",
    "\n",
    "for post in posts:\n",
    "    record = get_job(post)\n",
    "    records.append(record)"
   ]
  },
  {
   "cell_type": "code",
   "execution_count": null,
   "id": "731a23bf",
   "metadata": {},
   "outputs": [
    {
     "data": {
      "text/plain": [
       "16"
      ]
     },
     "execution_count": 82,
     "metadata": {},
     "output_type": "execute_result"
    }
   ],
   "source": [
    "len(records)"
   ]
  },
  {
   "cell_type": "markdown",
   "id": "4c0a3948",
   "metadata": {},
   "source": [
    "# --------"
   ]
  },
  {
   "cell_type": "markdown",
   "id": "eaf0e63c",
   "metadata": {},
   "source": [
    "# Next Page"
   ]
  },
  {
   "cell_type": "code",
   "execution_count": null,
   "id": "bcb678f6",
   "metadata": {},
   "outputs": [
    {
     "data": {
      "text/plain": [
       "'/jobs?q=machine+learning&l=san+jose+ca&radius=25&start=10'"
      ]
     },
     "execution_count": 67,
     "metadata": {},
     "output_type": "execute_result"
    }
   ],
   "source": [
    "soup.find('a', {\"data-testid\": \"pagination-page-next\"}).get(\"href\")\n"
   ]
  },
  {
   "cell_type": "code",
   "execution_count": null,
   "id": "07032551",
   "metadata": {},
   "outputs": [
    {
     "name": "stdout",
     "output_type": "stream",
     "text": [
      "https://www.indeed.com/jobs?q=machine+learning&l=san+jose+ca&radius=25&start=10\n",
      "<Response [403]>\n",
      "https://www.indeed.com/jobs?q=machine+learning&l=san+jose+ca&radius=25&start=10\n",
      "<Response [403]>\n",
      "https://www.indeed.com/jobs?q=machine+learning&l=san+jose+ca&radius=25&start=10\n",
      "<Response [200]>\n"
     ]
    }
   ],
   "source": [
    "overall_records = []\n",
    "url = get_url(job_title, city, state)\n",
    "response = requests.get(url, headers = headers)\n",
    "soup = BeautifulSoup(response.text, \"html.parser\")\n",
    "\n",
    "while True:\n",
    "    next_link = soup.find('a', {\"data-testid\": \"pagination-page-next\"})\n",
    "    if next_link is None:\n",
    "        break    \n",
    "    \n",
    "    url = \"https://www.indeed.com\" + next_link.get(\"href\")\n",
    "    print(url)\n",
    "    \n",
    "    time.sleep(random.uniform(2, 3))\n",
    "    \n",
    "    response = requests.get(url, headers = headers)\n",
    "    print(response)\n",
    "    \n",
    "    if(response.status_code == 200):\n",
    "        soup = BeautifulSoup(response.text, \"html.parser\")\n",
    "        posts = soup.find_all(\"div\", \"job_seen_beacon\")\n",
    "    else:\n",
    "        pass\n",
    "    \n",
    "    for post in posts:\n",
    "        record = get_job(post)\n",
    "        records.append(record)"
   ]
  },
  {
   "cell_type": "code",
   "execution_count": null,
   "id": "1fec3773",
   "metadata": {},
   "outputs": [
    {
     "data": {
      "text/plain": [
       "16"
      ]
     },
     "execution_count": 87,
     "metadata": {},
     "output_type": "execute_result"
    }
   ],
   "source": [
    "len(records)"
   ]
  }
 ],
 "metadata": {
  "kernelspec": {
   "display_name": "env",
   "language": "python",
   "name": "python3"
  },
  "language_info": {
   "codemirror_mode": {
    "name": "ipython",
    "version": 3
   },
   "file_extension": ".py",
   "mimetype": "text/x-python",
   "name": "python",
   "nbconvert_exporter": "python",
   "pygments_lexer": "ipython3",
   "version": "3.13.7"
  }
 },
 "nbformat": 4,
 "nbformat_minor": 5
}
